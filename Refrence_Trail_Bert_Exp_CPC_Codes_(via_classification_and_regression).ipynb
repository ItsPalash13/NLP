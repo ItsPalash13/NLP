{
  "cells": [
    {
      "cell_type": "markdown",
      "metadata": {
        "id": "view-in-github",
        "colab_type": "text"
      },
      "source": [
        "<a href=\"https://colab.research.google.com/github/itspalash/NLP/blob/main/Refrence_Trail_Bert_Exp_CPC_Codes_(via_classification_and_regression).ipynb\" target=\"_parent\"><img src=\"https://colab.research.google.com/assets/colab-badge.svg\" alt=\"Open In Colab\"/></a>"
      ]
    },
    {
      "cell_type": "code",
      "execution_count": null,
      "metadata": {
        "colab": {
          "base_uri": "https://localhost:8080/"
        },
        "id": "qZtjpyyV0PxZ",
        "outputId": "21d2f9cc-0726-45c5-fffa-bc9ac6cf0316"
      },
      "outputs": [
        {
          "name": "stdout",
          "output_type": "stream",
          "text": [
            "Requirement already satisfied: kaggle in /usr/local/lib/python3.7/dist-packages (1.5.12)\n",
            "Requirement already satisfied: six>=1.10 in /usr/local/lib/python3.7/dist-packages (from kaggle) (1.15.0)\n",
            "Requirement already satisfied: python-dateutil in /usr/local/lib/python3.7/dist-packages (from kaggle) (2.8.2)\n",
            "Requirement already satisfied: requests in /usr/local/lib/python3.7/dist-packages (from kaggle) (2.23.0)\n",
            "Requirement already satisfied: python-slugify in /usr/local/lib/python3.7/dist-packages (from kaggle) (6.1.1)\n",
            "Requirement already satisfied: certifi in /usr/local/lib/python3.7/dist-packages (from kaggle) (2021.10.8)\n",
            "Requirement already satisfied: urllib3 in /usr/local/lib/python3.7/dist-packages (from kaggle) (1.24.3)\n",
            "Requirement already satisfied: tqdm in /usr/local/lib/python3.7/dist-packages (from kaggle) (4.64.0)\n",
            "Requirement already satisfied: text-unidecode>=1.3 in /usr/local/lib/python3.7/dist-packages (from python-slugify->kaggle) (1.3)\n",
            "Requirement already satisfied: chardet<4,>=3.0.2 in /usr/local/lib/python3.7/dist-packages (from requests->kaggle) (3.0.4)\n",
            "Requirement already satisfied: idna<3,>=2.5 in /usr/local/lib/python3.7/dist-packages (from requests->kaggle) (2.10)\n",
            "Collecting datasets\n",
            "  Downloading datasets-2.1.0-py3-none-any.whl (325 kB)\n",
            "\u001b[K     |████████████████████████████████| 325 kB 5.4 MB/s \n",
            "\u001b[?25hCollecting transformers\n",
            "  Downloading transformers-4.18.0-py3-none-any.whl (4.0 MB)\n",
            "\u001b[K     |████████████████████████████████| 4.0 MB 35.0 MB/s \n",
            "\u001b[?25hRequirement already satisfied: pyarrow>=5.0.0 in /usr/local/lib/python3.7/dist-packages (from datasets) (6.0.1)\n",
            "Requirement already satisfied: pandas in /usr/local/lib/python3.7/dist-packages (from datasets) (1.3.5)\n",
            "Collecting responses<0.19\n",
            "  Downloading responses-0.18.0-py3-none-any.whl (38 kB)\n",
            "Collecting aiohttp\n",
            "  Downloading aiohttp-3.8.1-cp37-cp37m-manylinux_2_5_x86_64.manylinux1_x86_64.manylinux_2_12_x86_64.manylinux2010_x86_64.whl (1.1 MB)\n",
            "\u001b[K     |████████████████████████████████| 1.1 MB 45.7 MB/s \n",
            "\u001b[?25hRequirement already satisfied: packaging in /usr/local/lib/python3.7/dist-packages (from datasets) (21.3)\n",
            "Collecting xxhash\n",
            "  Downloading xxhash-3.0.0-cp37-cp37m-manylinux_2_17_x86_64.manylinux2014_x86_64.whl (212 kB)\n",
            "\u001b[K     |████████████████████████████████| 212 kB 46.4 MB/s \n",
            "\u001b[?25hCollecting huggingface-hub<1.0.0,>=0.1.0\n",
            "  Downloading huggingface_hub-0.5.1-py3-none-any.whl (77 kB)\n",
            "\u001b[K     |████████████████████████████████| 77 kB 7.0 MB/s \n",
            "\u001b[?25hRequirement already satisfied: tqdm>=4.62.1 in /usr/local/lib/python3.7/dist-packages (from datasets) (4.64.0)\n",
            "Requirement already satisfied: importlib-metadata in /usr/local/lib/python3.7/dist-packages (from datasets) (4.11.3)\n",
            "Requirement already satisfied: multiprocess in /usr/local/lib/python3.7/dist-packages (from datasets) (0.70.12.2)\n",
            "Requirement already satisfied: dill in /usr/local/lib/python3.7/dist-packages (from datasets) (0.3.4)\n",
            "Requirement already satisfied: numpy>=1.17 in /usr/local/lib/python3.7/dist-packages (from datasets) (1.21.5)\n",
            "Requirement already satisfied: requests>=2.19.0 in /usr/local/lib/python3.7/dist-packages (from datasets) (2.23.0)\n",
            "Collecting fsspec[http]>=2021.05.0\n",
            "  Downloading fsspec-2022.3.0-py3-none-any.whl (136 kB)\n",
            "\u001b[K     |████████████████████████████████| 136 kB 51.8 MB/s \n",
            "\u001b[?25hRequirement already satisfied: filelock in /usr/local/lib/python3.7/dist-packages (from huggingface-hub<1.0.0,>=0.1.0->datasets) (3.6.0)\n",
            "Requirement already satisfied: pyyaml in /usr/local/lib/python3.7/dist-packages (from huggingface-hub<1.0.0,>=0.1.0->datasets) (3.13)\n",
            "Requirement already satisfied: typing-extensions>=3.7.4.3 in /usr/local/lib/python3.7/dist-packages (from huggingface-hub<1.0.0,>=0.1.0->datasets) (4.1.1)\n",
            "Requirement already satisfied: pyparsing!=3.0.5,>=2.0.2 in /usr/local/lib/python3.7/dist-packages (from packaging->datasets) (3.0.8)\n",
            "Requirement already satisfied: chardet<4,>=3.0.2 in /usr/local/lib/python3.7/dist-packages (from requests>=2.19.0->datasets) (3.0.4)\n",
            "Requirement already satisfied: idna<3,>=2.5 in /usr/local/lib/python3.7/dist-packages (from requests>=2.19.0->datasets) (2.10)\n",
            "Requirement already satisfied: urllib3!=1.25.0,!=1.25.1,<1.26,>=1.21.1 in /usr/local/lib/python3.7/dist-packages (from requests>=2.19.0->datasets) (1.24.3)\n",
            "Requirement already satisfied: certifi>=2017.4.17 in /usr/local/lib/python3.7/dist-packages (from requests>=2.19.0->datasets) (2021.10.8)\n",
            "Collecting urllib3!=1.25.0,!=1.25.1,<1.26,>=1.21.1\n",
            "  Downloading urllib3-1.25.11-py2.py3-none-any.whl (127 kB)\n",
            "\u001b[K     |████████████████████████████████| 127 kB 52.9 MB/s \n",
            "\u001b[?25hCollecting tokenizers!=0.11.3,<0.13,>=0.11.1\n",
            "  Downloading tokenizers-0.12.1-cp37-cp37m-manylinux_2_12_x86_64.manylinux2010_x86_64.whl (6.6 MB)\n",
            "\u001b[K     |████████████████████████████████| 6.6 MB 41.6 MB/s \n",
            "\u001b[?25hRequirement already satisfied: regex!=2019.12.17 in /usr/local/lib/python3.7/dist-packages (from transformers) (2019.12.20)\n",
            "Collecting pyyaml\n",
            "  Downloading PyYAML-6.0-cp37-cp37m-manylinux_2_5_x86_64.manylinux1_x86_64.manylinux_2_12_x86_64.manylinux2010_x86_64.whl (596 kB)\n",
            "\u001b[K     |████████████████████████████████| 596 kB 48.9 MB/s \n",
            "\u001b[?25hCollecting sacremoses\n",
            "  Downloading sacremoses-0.0.49-py3-none-any.whl (895 kB)\n",
            "\u001b[K     |████████████████████████████████| 895 kB 43.9 MB/s \n",
            "\u001b[?25hRequirement already satisfied: attrs>=17.3.0 in /usr/local/lib/python3.7/dist-packages (from aiohttp->datasets) (21.4.0)\n",
            "Collecting asynctest==0.13.0\n",
            "  Downloading asynctest-0.13.0-py3-none-any.whl (26 kB)\n",
            "Requirement already satisfied: charset-normalizer<3.0,>=2.0 in /usr/local/lib/python3.7/dist-packages (from aiohttp->datasets) (2.0.12)\n",
            "Collecting multidict<7.0,>=4.5\n",
            "  Downloading multidict-6.0.2-cp37-cp37m-manylinux_2_17_x86_64.manylinux2014_x86_64.whl (94 kB)\n",
            "\u001b[K     |████████████████████████████████| 94 kB 3.2 MB/s \n",
            "\u001b[?25hCollecting frozenlist>=1.1.1\n",
            "  Downloading frozenlist-1.3.0-cp37-cp37m-manylinux_2_5_x86_64.manylinux1_x86_64.manylinux_2_17_x86_64.manylinux2014_x86_64.whl (144 kB)\n",
            "\u001b[K     |████████████████████████████████| 144 kB 48.3 MB/s \n",
            "\u001b[?25hCollecting yarl<2.0,>=1.0\n",
            "  Downloading yarl-1.7.2-cp37-cp37m-manylinux_2_5_x86_64.manylinux1_x86_64.manylinux_2_12_x86_64.manylinux2010_x86_64.whl (271 kB)\n",
            "\u001b[K     |████████████████████████████████| 271 kB 50.3 MB/s \n",
            "\u001b[?25hCollecting aiosignal>=1.1.2\n",
            "  Downloading aiosignal-1.2.0-py3-none-any.whl (8.2 kB)\n",
            "Collecting async-timeout<5.0,>=4.0.0a3\n",
            "  Downloading async_timeout-4.0.2-py3-none-any.whl (5.8 kB)\n",
            "Requirement already satisfied: zipp>=0.5 in /usr/local/lib/python3.7/dist-packages (from importlib-metadata->datasets) (3.8.0)\n",
            "Requirement already satisfied: pytz>=2017.3 in /usr/local/lib/python3.7/dist-packages (from pandas->datasets) (2018.9)\n",
            "Requirement already satisfied: python-dateutil>=2.7.3 in /usr/local/lib/python3.7/dist-packages (from pandas->datasets) (2.8.2)\n",
            "Requirement already satisfied: six>=1.5 in /usr/local/lib/python3.7/dist-packages (from python-dateutil>=2.7.3->pandas->datasets) (1.15.0)\n",
            "Requirement already satisfied: click in /usr/local/lib/python3.7/dist-packages (from sacremoses->transformers) (7.1.2)\n",
            "Requirement already satisfied: joblib in /usr/local/lib/python3.7/dist-packages (from sacremoses->transformers) (1.1.0)\n",
            "Installing collected packages: multidict, frozenlist, yarl, urllib3, asynctest, async-timeout, aiosignal, pyyaml, fsspec, aiohttp, xxhash, tokenizers, sacremoses, responses, huggingface-hub, transformers, datasets\n",
            "  Attempting uninstall: urllib3\n",
            "    Found existing installation: urllib3 1.24.3\n",
            "    Uninstalling urllib3-1.24.3:\n",
            "      Successfully uninstalled urllib3-1.24.3\n",
            "  Attempting uninstall: pyyaml\n",
            "    Found existing installation: PyYAML 3.13\n",
            "    Uninstalling PyYAML-3.13:\n",
            "      Successfully uninstalled PyYAML-3.13\n",
            "\u001b[31mERROR: pip's dependency resolver does not currently take into account all the packages that are installed. This behaviour is the source of the following dependency conflicts.\n",
            "datascience 0.10.6 requires folium==0.2.1, but you have folium 0.8.3 which is incompatible.\u001b[0m\n",
            "Successfully installed aiohttp-3.8.1 aiosignal-1.2.0 async-timeout-4.0.2 asynctest-0.13.0 datasets-2.1.0 frozenlist-1.3.0 fsspec-2022.3.0 huggingface-hub-0.5.1 multidict-6.0.2 pyyaml-6.0 responses-0.18.0 sacremoses-0.0.49 tokenizers-0.12.1 transformers-4.18.0 urllib3-1.25.11 xxhash-3.0.0 yarl-1.7.2\n",
            "\u001b[K     |████████████████████████████████| 4.9 MB 5.3 MB/s \n",
            "\u001b[K     |████████████████████████████████| 462 kB 51.2 MB/s \n",
            "\u001b[K     |████████████████████████████████| 1.1 MB 5.2 MB/s \n",
            "\u001b[K     |████████████████████████████████| 43 kB 2.1 MB/s \n",
            "\u001b[K     |████████████████████████████████| 1.1 MB 40.1 MB/s \n",
            "\u001b[K     |████████████████████████████████| 47.8 MB 2.2 MB/s \n",
            "\u001b[K     |████████████████████████████████| 237 kB 38.3 MB/s \n",
            "\u001b[K     |████████████████████████████████| 1.2 MB 42.9 MB/s \n",
            "\u001b[K     |████████████████████████████████| 99 kB 9.3 MB/s \n",
            "\u001b[K     |████████████████████████████████| 352 kB 45.9 MB/s \n",
            "\u001b[?25h  Building wheel for py-cpuinfo (setup.py) ... \u001b[?25l\u001b[?25hdone\n",
            "  Building wheel for seqeval (setup.py) ... \u001b[?25l\u001b[?25hdone\n",
            "Requirement already satisfied: tensorflow-text in /usr/local/lib/python3.7/dist-packages (2.8.1)\n",
            "Requirement already satisfied: tensorflow-hub>=0.8.0 in /usr/local/lib/python3.7/dist-packages (from tensorflow-text) (0.12.0)\n",
            "Requirement already satisfied: tensorflow<2.9,>=2.8.0 in /usr/local/lib/python3.7/dist-packages (from tensorflow-text) (2.8.0)\n",
            "Requirement already satisfied: flatbuffers>=1.12 in /usr/local/lib/python3.7/dist-packages (from tensorflow<2.9,>=2.8.0->tensorflow-text) (2.0)\n",
            "Requirement already satisfied: gast>=0.2.1 in /usr/local/lib/python3.7/dist-packages (from tensorflow<2.9,>=2.8.0->tensorflow-text) (0.5.3)\n",
            "Requirement already satisfied: libclang>=9.0.1 in /usr/local/lib/python3.7/dist-packages (from tensorflow<2.9,>=2.8.0->tensorflow-text) (13.0.0)\n",
            "Requirement already satisfied: google-pasta>=0.1.1 in /usr/local/lib/python3.7/dist-packages (from tensorflow<2.9,>=2.8.0->tensorflow-text) (0.2.0)\n",
            "Requirement already satisfied: six>=1.12.0 in /usr/local/lib/python3.7/dist-packages (from tensorflow<2.9,>=2.8.0->tensorflow-text) (1.15.0)\n",
            "Requirement already satisfied: tensorboard<2.9,>=2.8 in /usr/local/lib/python3.7/dist-packages (from tensorflow<2.9,>=2.8.0->tensorflow-text) (2.8.0)\n",
            "Requirement already satisfied: tf-estimator-nightly==2.8.0.dev2021122109 in /usr/local/lib/python3.7/dist-packages (from tensorflow<2.9,>=2.8.0->tensorflow-text) (2.8.0.dev2021122109)\n",
            "Requirement already satisfied: keras<2.9,>=2.8.0rc0 in /usr/local/lib/python3.7/dist-packages (from tensorflow<2.9,>=2.8.0->tensorflow-text) (2.8.0)\n",
            "Requirement already satisfied: protobuf>=3.9.2 in /usr/local/lib/python3.7/dist-packages (from tensorflow<2.9,>=2.8.0->tensorflow-text) (3.17.3)\n",
            "Requirement already satisfied: astunparse>=1.6.0 in /usr/local/lib/python3.7/dist-packages (from tensorflow<2.9,>=2.8.0->tensorflow-text) (1.6.3)\n",
            "Requirement already satisfied: grpcio<2.0,>=1.24.3 in /usr/local/lib/python3.7/dist-packages (from tensorflow<2.9,>=2.8.0->tensorflow-text) (1.44.0)\n",
            "Requirement already satisfied: tensorflow-io-gcs-filesystem>=0.23.1 in /usr/local/lib/python3.7/dist-packages (from tensorflow<2.9,>=2.8.0->tensorflow-text) (0.24.0)\n",
            "Requirement already satisfied: typing-extensions>=3.6.6 in /usr/local/lib/python3.7/dist-packages (from tensorflow<2.9,>=2.8.0->tensorflow-text) (4.1.1)\n",
            "Requirement already satisfied: keras-preprocessing>=1.1.1 in /usr/local/lib/python3.7/dist-packages (from tensorflow<2.9,>=2.8.0->tensorflow-text) (1.1.2)\n",
            "Requirement already satisfied: wrapt>=1.11.0 in /usr/local/lib/python3.7/dist-packages (from tensorflow<2.9,>=2.8.0->tensorflow-text) (1.14.0)\n",
            "Requirement already satisfied: h5py>=2.9.0 in /usr/local/lib/python3.7/dist-packages (from tensorflow<2.9,>=2.8.0->tensorflow-text) (3.1.0)\n",
            "Requirement already satisfied: opt-einsum>=2.3.2 in /usr/local/lib/python3.7/dist-packages (from tensorflow<2.9,>=2.8.0->tensorflow-text) (3.3.0)\n",
            "Requirement already satisfied: termcolor>=1.1.0 in /usr/local/lib/python3.7/dist-packages (from tensorflow<2.9,>=2.8.0->tensorflow-text) (1.1.0)\n",
            "Requirement already satisfied: numpy>=1.20 in /usr/local/lib/python3.7/dist-packages (from tensorflow<2.9,>=2.8.0->tensorflow-text) (1.21.5)\n",
            "Requirement already satisfied: setuptools in /usr/local/lib/python3.7/dist-packages (from tensorflow<2.9,>=2.8.0->tensorflow-text) (57.4.0)\n",
            "Requirement already satisfied: absl-py>=0.4.0 in /usr/local/lib/python3.7/dist-packages (from tensorflow<2.9,>=2.8.0->tensorflow-text) (1.0.0)\n",
            "Requirement already satisfied: wheel<1.0,>=0.23.0 in /usr/local/lib/python3.7/dist-packages (from astunparse>=1.6.0->tensorflow<2.9,>=2.8.0->tensorflow-text) (0.37.1)\n",
            "Requirement already satisfied: cached-property in /usr/local/lib/python3.7/dist-packages (from h5py>=2.9.0->tensorflow<2.9,>=2.8.0->tensorflow-text) (1.5.2)\n",
            "Requirement already satisfied: tensorboard-data-server<0.7.0,>=0.6.0 in /usr/local/lib/python3.7/dist-packages (from tensorboard<2.9,>=2.8->tensorflow<2.9,>=2.8.0->tensorflow-text) (0.6.1)\n",
            "Requirement already satisfied: werkzeug>=0.11.15 in /usr/local/lib/python3.7/dist-packages (from tensorboard<2.9,>=2.8->tensorflow<2.9,>=2.8.0->tensorflow-text) (1.0.1)\n",
            "Requirement already satisfied: requests<3,>=2.21.0 in /usr/local/lib/python3.7/dist-packages (from tensorboard<2.9,>=2.8->tensorflow<2.9,>=2.8.0->tensorflow-text) (2.23.0)\n",
            "Requirement already satisfied: markdown>=2.6.8 in /usr/local/lib/python3.7/dist-packages (from tensorboard<2.9,>=2.8->tensorflow<2.9,>=2.8.0->tensorflow-text) (3.3.6)\n",
            "Requirement already satisfied: google-auth<3,>=1.6.3 in /usr/local/lib/python3.7/dist-packages (from tensorboard<2.9,>=2.8->tensorflow<2.9,>=2.8.0->tensorflow-text) (1.35.0)\n",
            "Requirement already satisfied: tensorboard-plugin-wit>=1.6.0 in /usr/local/lib/python3.7/dist-packages (from tensorboard<2.9,>=2.8->tensorflow<2.9,>=2.8.0->tensorflow-text) (1.8.1)\n",
            "Requirement already satisfied: google-auth-oauthlib<0.5,>=0.4.1 in /usr/local/lib/python3.7/dist-packages (from tensorboard<2.9,>=2.8->tensorflow<2.9,>=2.8.0->tensorflow-text) (0.4.6)\n",
            "Requirement already satisfied: cachetools<5.0,>=2.0.0 in /usr/local/lib/python3.7/dist-packages (from google-auth<3,>=1.6.3->tensorboard<2.9,>=2.8->tensorflow<2.9,>=2.8.0->tensorflow-text) (4.2.4)\n",
            "Requirement already satisfied: rsa<5,>=3.1.4 in /usr/local/lib/python3.7/dist-packages (from google-auth<3,>=1.6.3->tensorboard<2.9,>=2.8->tensorflow<2.9,>=2.8.0->tensorflow-text) (4.8)\n",
            "Requirement already satisfied: pyasn1-modules>=0.2.1 in /usr/local/lib/python3.7/dist-packages (from google-auth<3,>=1.6.3->tensorboard<2.9,>=2.8->tensorflow<2.9,>=2.8.0->tensorflow-text) (0.2.8)\n",
            "Requirement already satisfied: requests-oauthlib>=0.7.0 in /usr/local/lib/python3.7/dist-packages (from google-auth-oauthlib<0.5,>=0.4.1->tensorboard<2.9,>=2.8->tensorflow<2.9,>=2.8.0->tensorflow-text) (1.3.1)\n",
            "Requirement already satisfied: importlib-metadata>=4.4 in /usr/local/lib/python3.7/dist-packages (from markdown>=2.6.8->tensorboard<2.9,>=2.8->tensorflow<2.9,>=2.8.0->tensorflow-text) (4.11.3)\n",
            "Requirement already satisfied: zipp>=0.5 in /usr/local/lib/python3.7/dist-packages (from importlib-metadata>=4.4->markdown>=2.6.8->tensorboard<2.9,>=2.8->tensorflow<2.9,>=2.8.0->tensorflow-text) (3.8.0)\n",
            "Requirement already satisfied: pyasn1<0.5.0,>=0.4.6 in /usr/local/lib/python3.7/dist-packages (from pyasn1-modules>=0.2.1->google-auth<3,>=1.6.3->tensorboard<2.9,>=2.8->tensorflow<2.9,>=2.8.0->tensorflow-text) (0.4.8)\n",
            "Requirement already satisfied: idna<3,>=2.5 in /usr/local/lib/python3.7/dist-packages (from requests<3,>=2.21.0->tensorboard<2.9,>=2.8->tensorflow<2.9,>=2.8.0->tensorflow-text) (2.10)\n",
            "Requirement already satisfied: certifi>=2017.4.17 in /usr/local/lib/python3.7/dist-packages (from requests<3,>=2.21.0->tensorboard<2.9,>=2.8->tensorflow<2.9,>=2.8.0->tensorflow-text) (2021.10.8)\n",
            "Requirement already satisfied: urllib3!=1.25.0,!=1.25.1,<1.26,>=1.21.1 in /usr/local/lib/python3.7/dist-packages (from requests<3,>=2.21.0->tensorboard<2.9,>=2.8->tensorflow<2.9,>=2.8.0->tensorflow-text) (1.25.11)\n",
            "Requirement already satisfied: chardet<4,>=3.0.2 in /usr/local/lib/python3.7/dist-packages (from requests<3,>=2.21.0->tensorboard<2.9,>=2.8->tensorflow<2.9,>=2.8.0->tensorflow-text) (3.0.4)\n",
            "Requirement already satisfied: oauthlib>=3.0.0 in /usr/local/lib/python3.7/dist-packages (from requests-oauthlib>=0.7.0->google-auth-oauthlib<0.5,>=0.4.1->tensorboard<2.9,>=2.8->tensorflow<2.9,>=2.8.0->tensorflow-text) (3.2.0)\n"
          ]
        }
      ],
      "source": [
        "!pip install kaggle\n",
        "!pip install datasets transformers\n",
        "!pip install -q -U \"tensorflow-text==2.8.*\"\n",
        "!pip install -q tf-models-official==2.4.0\n",
        "!pip install tensorflow-text"
      ]
    },
    {
      "cell_type": "code",
      "execution_count": null,
      "metadata": {
        "id": "GKMYhCDb1KCk"
      },
      "outputs": [],
      "source": [
        "! mkdir ~/.kaggle\n",
        "!cp kaggle.json ~/.kaggle/\n",
        "! cp kaggle.json ~/.kaggle/\n",
        "! chmod 600 ~/.kaggle/kaggle.json"
      ]
    },
    {
      "cell_type": "code",
      "execution_count": null,
      "metadata": {
        "colab": {
          "base_uri": "https://localhost:8080/"
        },
        "id": "VPUyJss12BQI",
        "outputId": "669ccaee-9c0c-4527-b67e-2378931f1a03"
      },
      "outputs": [
        {
          "name": "stdout",
          "output_type": "stream",
          "text": [
            "Downloading us-patent-phrase-to-phrase-matching.zip to /content\n",
            "\r  0% 0.00/682k [00:00<?, ?B/s]\n",
            "\r100% 682k/682k [00:00<00:00, 116MB/s]\n"
          ]
        }
      ],
      "source": [
        "!kaggle competitions download -c us-patent-phrase-to-phrase-matching"
      ]
    },
    {
      "cell_type": "code",
      "execution_count": null,
      "metadata": {
        "colab": {
          "base_uri": "https://localhost:8080/"
        },
        "id": "i5yOElQV2HAX",
        "outputId": "3fa41a84-5960-4b36-9158-c73866393701"
      },
      "outputs": [
        {
          "name": "stdout",
          "output_type": "stream",
          "text": [
            "Archive:  us-patent-phrase-to-phrase-matching.zip\n",
            "  inflating: sample_submission.csv   \n",
            "  inflating: test.csv                \n",
            "  inflating: train.csv               \n"
          ]
        }
      ],
      "source": [
        "! unzip us-patent-phrase-to-phrase-matching"
      ]
    },
    {
      "cell_type": "code",
      "execution_count": null,
      "metadata": {
        "id": "JP7CPDl1bFJq"
      },
      "outputs": [],
      "source": [
        "import os\n",
        "\n",
        "import numpy as np\n",
        "import matplotlib.pyplot as plt\n",
        "\n",
        "import tensorflow as tf\n",
        "\n",
        "import tensorflow_hub as hub\n",
        "import tensorflow_datasets as tfds\n",
        "tfds.disable_progress_bar()\n",
        "\n",
        "from official.modeling import tf_utils\n",
        "from official import nlp\n",
        "from official.nlp import bert\n",
        "\n",
        "# Load the required submodules\n",
        "import official.nlp.optimization\n",
        "import official.nlp.bert.bert_models\n",
        "import official.nlp.bert.configs\n",
        "import official.nlp.bert.run_classifier\n",
        "import official.nlp.bert.tokenization\n",
        "import official.nlp.data.classifier_data_lib\n",
        "import official.nlp.modeling.losses\n",
        "import official.nlp.modeling.models\n",
        "import official.nlp.modeling.networks\n"
      ]
    },
    {
      "cell_type": "code",
      "execution_count": null,
      "metadata": {
        "colab": {
          "base_uri": "https://localhost:8080/"
        },
        "id": "xX-SKZ-pNnYX",
        "outputId": "1f737c94-daac-4201-dc54-d2ff805bce1f"
      },
      "outputs": [
        {
          "data": {
            "text/plain": [
              "['bert_config.json',\n",
              " 'bert_model.ckpt.data-00000-of-00001',\n",
              " 'bert_model.ckpt.index',\n",
              " 'vocab.txt']"
            ]
          },
          "execution_count": 6,
          "metadata": {},
          "output_type": "execute_result"
        }
      ],
      "source": [
        "gs_folder_bert = \"gs://cloud-tpu-checkpoints/bert/v3/uncased_L-12_H-768_A-12\"\n",
        "tf.io.gfile.listdir(gs_folder_bert)"
      ]
    },
    {
      "cell_type": "code",
      "execution_count": null,
      "metadata": {
        "colab": {
          "base_uri": "https://localhost:8080/"
        },
        "id": "viATF_gONnml",
        "outputId": "92d3fca3-1528-4eed-af50-ada5ed62faae"
      },
      "outputs": [
        {
          "name": "stdout",
          "output_type": "stream",
          "text": [
            "Found GPU at: /device:GPU:0\n"
          ]
        }
      ],
      "source": [
        "%tensorflow_version 2.x\n",
        "import tensorflow as tf\n",
        "device_name = tf.test.gpu_device_name()\n",
        "if device_name != '/device:GPU:0':\n",
        "  raise SystemError('GPU device not found')\n",
        "print('Found GPU at: {}'.format(device_name))"
      ]
    },
    {
      "cell_type": "code",
      "execution_count": null,
      "metadata": {
        "colab": {
          "base_uri": "https://localhost:8080/"
        },
        "id": "J3uzwuDBOQ4_",
        "outputId": "47607122-a18f-40bb-d099-6aee4ea926c7"
      },
      "outputs": [
        {
          "name": "stdout",
          "output_type": "stream",
          "text": [
            "Vocab size: 30522\n"
          ]
        }
      ],
      "source": [
        "# Set up tokenizer to generate Tensorflow dataset\n",
        "tokenizer = bert.tokenization.FullTokenizer(\n",
        "    vocab_file=os.path.join(gs_folder_bert, \"vocab.txt\"),\n",
        "     do_lower_case=True)\n",
        "\n",
        "print(\"Vocab size:\", len(tokenizer.vocab))"
      ]
    },
    {
      "cell_type": "code",
      "execution_count": null,
      "metadata": {
        "colab": {
          "base_uri": "https://localhost:8080/"
        },
        "id": "smqn38Kegl3Z",
        "outputId": "9f95d638-6651-482c-b7d5-ded9df24d3be"
      },
      "outputs": [
        {
          "data": {
            "text/plain": [
              "[101, 102]"
            ]
          },
          "execution_count": 9,
          "metadata": {},
          "output_type": "execute_result"
        }
      ],
      "source": [
        "tokenizer.convert_tokens_to_ids(['[CLS]', '[SEP]'])"
      ]
    },
    {
      "cell_type": "code",
      "execution_count": null,
      "metadata": {
        "id": "1MCHluZWR3MU"
      },
      "outputs": [],
      "source": [
        "def encode_sentence(s):\n",
        "   tokens = list(tokenizer.tokenize(s.numpy()))\n",
        "   tokens.append('[SEP]')\n",
        "   return tokenizer.convert_tokens_to_ids(tokens)"
      ]
    },
    {
      "cell_type": "code",
      "execution_count": null,
      "metadata": {
        "id": "j24LFh6GTfCM"
      },
      "outputs": [],
      "source": [
        "train_csv_tf = tf.data.experimental.make_csv_dataset(\"train.csv\", batch_size=100)"
      ]
    },
    {
      "cell_type": "code",
      "execution_count": null,
      "metadata": {
        "id": "TNdHw2xn0kgF"
      },
      "outputs": [],
      "source": [
        "import pandas as pd\n",
        "\n",
        "train_pd_np = pd.read_csv('train.csv')\n",
        "test_pd_np = pd.read_csv('train.csv')\n",
        "cpc_code = pd.read_csv('cpc_code.csv')\n"
      ]
    },
    {
      "cell_type": "code",
      "execution_count": null,
      "metadata": {
        "colab": {
          "base_uri": "https://localhost:8080/",
          "height": 337
        },
        "id": "eAbEqBINuVSe",
        "outputId": "1ded4ae5-1c63-4319-e2ff-b7de46516c9c"
      },
      "outputs": [
        {
          "data": {
            "text/html": [
              "\n",
              "  <div id=\"df-6f96998d-32d5-4d0c-9fe1-c1041dc8bc42\">\n",
              "    <div class=\"colab-df-container\">\n",
              "      <div>\n",
              "<style scoped>\n",
              "    .dataframe tbody tr th:only-of-type {\n",
              "        vertical-align: middle;\n",
              "    }\n",
              "\n",
              "    .dataframe tbody tr th {\n",
              "        vertical-align: top;\n",
              "    }\n",
              "\n",
              "    .dataframe thead th {\n",
              "        text-align: right;\n",
              "    }\n",
              "</style>\n",
              "<table border=\"1\" class=\"dataframe\">\n",
              "  <thead>\n",
              "    <tr style=\"text-align: right;\">\n",
              "      <th></th>\n",
              "      <th>id</th>\n",
              "      <th>anchor</th>\n",
              "      <th>target</th>\n",
              "      <th>context</th>\n",
              "      <th>score</th>\n",
              "      <th>title</th>\n",
              "    </tr>\n",
              "  </thead>\n",
              "  <tbody>\n",
              "    <tr>\n",
              "      <th>0</th>\n",
              "      <td>37d61fd2272659b1</td>\n",
              "      <td>abatement</td>\n",
              "      <td>abatement of pollution</td>\n",
              "      <td>A47</td>\n",
              "      <td>0.50</td>\n",
              "      <td>FURNITURE; DOMESTIC ARTICLES OR APPLIANCES; CO...</td>\n",
              "    </tr>\n",
              "    <tr>\n",
              "      <th>1</th>\n",
              "      <td>7b9652b17b68b7a4</td>\n",
              "      <td>abatement</td>\n",
              "      <td>act of abating</td>\n",
              "      <td>A47</td>\n",
              "      <td>0.75</td>\n",
              "      <td>FURNITURE; DOMESTIC ARTICLES OR APPLIANCES; CO...</td>\n",
              "    </tr>\n",
              "    <tr>\n",
              "      <th>2</th>\n",
              "      <td>36d72442aefd8232</td>\n",
              "      <td>abatement</td>\n",
              "      <td>active catalyst</td>\n",
              "      <td>A47</td>\n",
              "      <td>0.25</td>\n",
              "      <td>FURNITURE; DOMESTIC ARTICLES OR APPLIANCES; CO...</td>\n",
              "    </tr>\n",
              "    <tr>\n",
              "      <th>3</th>\n",
              "      <td>5296b0c19e1ce60e</td>\n",
              "      <td>abatement</td>\n",
              "      <td>eliminating process</td>\n",
              "      <td>A47</td>\n",
              "      <td>0.50</td>\n",
              "      <td>FURNITURE; DOMESTIC ARTICLES OR APPLIANCES; CO...</td>\n",
              "    </tr>\n",
              "    <tr>\n",
              "      <th>4</th>\n",
              "      <td>54c1e3b9184cb5b6</td>\n",
              "      <td>abatement</td>\n",
              "      <td>forest region</td>\n",
              "      <td>A47</td>\n",
              "      <td>0.00</td>\n",
              "      <td>FURNITURE; DOMESTIC ARTICLES OR APPLIANCES; CO...</td>\n",
              "    </tr>\n",
              "  </tbody>\n",
              "</table>\n",
              "</div>\n",
              "      <button class=\"colab-df-convert\" onclick=\"convertToInteractive('df-6f96998d-32d5-4d0c-9fe1-c1041dc8bc42')\"\n",
              "              title=\"Convert this dataframe to an interactive table.\"\n",
              "              style=\"display:none;\">\n",
              "        \n",
              "  <svg xmlns=\"http://www.w3.org/2000/svg\" height=\"24px\"viewBox=\"0 0 24 24\"\n",
              "       width=\"24px\">\n",
              "    <path d=\"M0 0h24v24H0V0z\" fill=\"none\"/>\n",
              "    <path d=\"M18.56 5.44l.94 2.06.94-2.06 2.06-.94-2.06-.94-.94-2.06-.94 2.06-2.06.94zm-11 1L8.5 8.5l.94-2.06 2.06-.94-2.06-.94L8.5 2.5l-.94 2.06-2.06.94zm10 10l.94 2.06.94-2.06 2.06-.94-2.06-.94-.94-2.06-.94 2.06-2.06.94z\"/><path d=\"M17.41 7.96l-1.37-1.37c-.4-.4-.92-.59-1.43-.59-.52 0-1.04.2-1.43.59L10.3 9.45l-7.72 7.72c-.78.78-.78 2.05 0 2.83L4 21.41c.39.39.9.59 1.41.59.51 0 1.02-.2 1.41-.59l7.78-7.78 2.81-2.81c.8-.78.8-2.07 0-2.86zM5.41 20L4 18.59l7.72-7.72 1.47 1.35L5.41 20z\"/>\n",
              "  </svg>\n",
              "      </button>\n",
              "      \n",
              "  <style>\n",
              "    .colab-df-container {\n",
              "      display:flex;\n",
              "      flex-wrap:wrap;\n",
              "      gap: 12px;\n",
              "    }\n",
              "\n",
              "    .colab-df-convert {\n",
              "      background-color: #E8F0FE;\n",
              "      border: none;\n",
              "      border-radius: 50%;\n",
              "      cursor: pointer;\n",
              "      display: none;\n",
              "      fill: #1967D2;\n",
              "      height: 32px;\n",
              "      padding: 0 0 0 0;\n",
              "      width: 32px;\n",
              "    }\n",
              "\n",
              "    .colab-df-convert:hover {\n",
              "      background-color: #E2EBFA;\n",
              "      box-shadow: 0px 1px 2px rgba(60, 64, 67, 0.3), 0px 1px 3px 1px rgba(60, 64, 67, 0.15);\n",
              "      fill: #174EA6;\n",
              "    }\n",
              "\n",
              "    [theme=dark] .colab-df-convert {\n",
              "      background-color: #3B4455;\n",
              "      fill: #D2E3FC;\n",
              "    }\n",
              "\n",
              "    [theme=dark] .colab-df-convert:hover {\n",
              "      background-color: #434B5C;\n",
              "      box-shadow: 0px 1px 3px 1px rgba(0, 0, 0, 0.15);\n",
              "      filter: drop-shadow(0px 1px 2px rgba(0, 0, 0, 0.3));\n",
              "      fill: #FFFFFF;\n",
              "    }\n",
              "  </style>\n",
              "\n",
              "      <script>\n",
              "        const buttonEl =\n",
              "          document.querySelector('#df-6f96998d-32d5-4d0c-9fe1-c1041dc8bc42 button.colab-df-convert');\n",
              "        buttonEl.style.display =\n",
              "          google.colab.kernel.accessAllowed ? 'block' : 'none';\n",
              "\n",
              "        async function convertToInteractive(key) {\n",
              "          const element = document.querySelector('#df-6f96998d-32d5-4d0c-9fe1-c1041dc8bc42');\n",
              "          const dataTable =\n",
              "            await google.colab.kernel.invokeFunction('convertToInteractive',\n",
              "                                                     [key], {});\n",
              "          if (!dataTable) return;\n",
              "\n",
              "          const docLinkHtml = 'Like what you see? Visit the ' +\n",
              "            '<a target=\"_blank\" href=https://colab.research.google.com/notebooks/data_table.ipynb>data table notebook</a>'\n",
              "            + ' to learn more about interactive tables.';\n",
              "          element.innerHTML = '';\n",
              "          dataTable['output_type'] = 'display_data';\n",
              "          await google.colab.output.renderOutput(dataTable, element);\n",
              "          const docLink = document.createElement('div');\n",
              "          docLink.innerHTML = docLinkHtml;\n",
              "          element.appendChild(docLink);\n",
              "        }\n",
              "      </script>\n",
              "    </div>\n",
              "  </div>\n",
              "  "
            ],
            "text/plain": [
              "                 id     anchor                  target context  score  \\\n",
              "0  37d61fd2272659b1  abatement  abatement of pollution     A47   0.50   \n",
              "1  7b9652b17b68b7a4  abatement          act of abating     A47   0.75   \n",
              "2  36d72442aefd8232  abatement         active catalyst     A47   0.25   \n",
              "3  5296b0c19e1ce60e  abatement     eliminating process     A47   0.50   \n",
              "4  54c1e3b9184cb5b6  abatement           forest region     A47   0.00   \n",
              "\n",
              "                                               title  \n",
              "0  FURNITURE; DOMESTIC ARTICLES OR APPLIANCES; CO...  \n",
              "1  FURNITURE; DOMESTIC ARTICLES OR APPLIANCES; CO...  \n",
              "2  FURNITURE; DOMESTIC ARTICLES OR APPLIANCES; CO...  \n",
              "3  FURNITURE; DOMESTIC ARTICLES OR APPLIANCES; CO...  \n",
              "4  FURNITURE; DOMESTIC ARTICLES OR APPLIANCES; CO...  "
            ]
          },
          "execution_count": 42,
          "metadata": {},
          "output_type": "execute_result"
        }
      ],
      "source": [
        "#len(train_pd_np.context.unique())\n",
        "train_final = pd.merge(train_pd_np, cpc_code, on=\"context\")\n",
        "test_final = pd.merge(test_pd_np, cpc_code, on=\"context\")\n",
        "test_final.head()\n"
      ]
    },
    {
      "cell_type": "code",
      "execution_count": null,
      "metadata": {
        "id": "IAGeilXX05QF"
      },
      "outputs": [],
      "source": [
        "data = {\"anchor\": tf.ragged.constant(train_final['anchor'].to_numpy()),\n",
        "\"target\": tf.ragged.constant(train_final['target'].to_numpy()),\n",
        "\"context\": tf.ragged.constant(train_final['title'].to_numpy()),\n",
        "\"score\": tf.ragged.constant(train_final['score'].to_numpy())}\n",
        "\n",
        "data_test = {\"anchor\": tf.ragged.constant(test_final['anchor'].to_numpy()),\n",
        "\"target\": tf.ragged.constant(test_final['target'].to_numpy()),\n",
        "\"context\": tf.ragged.constant(test_final['title'].to_numpy()),\n",
        "\"score\": tf.ragged.constant(test_final['score'].to_numpy())}"
      ]
    },
    {
      "cell_type": "code",
      "execution_count": null,
      "metadata": {
        "id": "hCyTi845iBPE"
      },
      "outputs": [],
      "source": [
        "def bert_encode(glue_dict, tokenizer):\n",
        "\n",
        "\n",
        "  anchor = tf.ragged.constant([encode_sentence(s) for s in data[\"anchor\"]])\n",
        "  target = tf.ragged.constant([encode_sentence(s) for s in data[\"target\"]])\n",
        "  context = tf.ragged.constant([encode_sentence(s) for s in data[\"context\"]])\n",
        "\n",
        "  cls = [tokenizer.convert_tokens_to_ids(['[CLS]'])]*anchor.shape[0]\n",
        "  input_word_ids = tf.concat([cls, anchor, target, context], axis=-1)\n",
        "  input_mask = tf.ones_like(input_word_ids).to_tensor()\n",
        "\n",
        "  type_cls = tf.zeros_like(cls)\n",
        "  type_target = tf.zeros_like(target)\n",
        "  type_anchor = tf.ones_like(anchor)\n",
        "  type_context = tf.ones_like(context)\n",
        "  input_type_ids = tf.concat([type_cls, type_anchor, type_target,type_context], axis=-1).to_tensor()\n",
        "\n",
        "  inputs = {\n",
        "      'input_word_ids': input_word_ids.to_tensor(),\n",
        "      'input_mask': input_mask,\n",
        "      'input_type_ids': input_type_ids}\n",
        "\n",
        "  return inputs"
      ]
    },
    {
      "cell_type": "code",
      "execution_count": null,
      "metadata": {
        "id": "3dNs0IJOirlk"
      },
      "outputs": [],
      "source": [
        "data_train = bert_encode(data, tokenizer)\n",
        "data_train_labels = data[\"score\"] "
      ]
    },
    {
      "cell_type": "code",
      "execution_count": null,
      "metadata": {
        "colab": {
          "base_uri": "https://localhost:8080/"
        },
        "id": "co1enB17lAKm",
        "outputId": "969fd8f1-bcaa-4342-abcc-96f7f7cb3a5c"
      },
      "outputs": [
        {
          "data": {
            "text/plain": [
              "{'input_mask': <tf.Tensor: shape=(36473, 75), dtype=int32, numpy=\n",
              " array([[1, 1, 1, ..., 0, 0, 0],\n",
              "        [1, 1, 1, ..., 0, 0, 0],\n",
              "        [1, 1, 1, ..., 0, 0, 0],\n",
              "        ...,\n",
              "        [1, 1, 1, ..., 0, 0, 0],\n",
              "        [1, 1, 1, ..., 0, 0, 0],\n",
              "        [1, 1, 1, ..., 0, 0, 0]], dtype=int32)>,\n",
              " 'input_type_ids': <tf.Tensor: shape=(36473, 75), dtype=int32, numpy=\n",
              " array([[0, 1, 1, ..., 0, 0, 0],\n",
              "        [0, 1, 1, ..., 0, 0, 0],\n",
              "        [0, 1, 1, ..., 0, 0, 0],\n",
              "        ...,\n",
              "        [0, 1, 1, ..., 0, 0, 0],\n",
              "        [0, 1, 1, ..., 0, 0, 0],\n",
              "        [0, 1, 1, ..., 0, 0, 0]], dtype=int32)>,\n",
              " 'input_word_ids': <tf.Tensor: shape=(36473, 75), dtype=int32, numpy=\n",
              " array([[  101, 19557, 18532, ...,     0,     0,     0],\n",
              "        [  101, 19557, 18532, ...,     0,     0,     0],\n",
              "        [  101, 19557, 18532, ...,     0,     0,     0],\n",
              "        ...,\n",
              "        [  101,  4773,  4651, ...,     0,     0,     0],\n",
              "        [  101,  4773,  4651, ...,     0,     0,     0],\n",
              "        [  101,  4773,  4651, ...,     0,     0,     0]], dtype=int32)>}"
            ]
          },
          "execution_count": 47,
          "metadata": {},
          "output_type": "execute_result"
        }
      ],
      "source": [
        "data_test"
      ]
    },
    {
      "cell_type": "code",
      "execution_count": null,
      "metadata": {
        "id": "0wsYWb2tjmKy"
      },
      "outputs": [],
      "source": [
        "data_Test = bert_encode(data_test, tokenizer)\n",
        "data_Test_labels = data_test[\"score\"] "
      ]
    },
    {
      "cell_type": "code",
      "execution_count": null,
      "metadata": {
        "colab": {
          "base_uri": "https://localhost:8080/"
        },
        "id": "rzpjLZ5FUtVR",
        "outputId": "d7debb5e-4577-464d-92de-f0868951b37a"
      },
      "outputs": [
        {
          "data": {
            "text/plain": [
              "{'input_mask': <tf.Tensor: shape=(36473, 75), dtype=int32, numpy=\n",
              " array([[1, 1, 1, ..., 0, 0, 0],\n",
              "        [1, 1, 1, ..., 0, 0, 0],\n",
              "        [1, 1, 1, ..., 0, 0, 0],\n",
              "        ...,\n",
              "        [1, 1, 1, ..., 0, 0, 0],\n",
              "        [1, 1, 1, ..., 0, 0, 0],\n",
              "        [1, 1, 1, ..., 0, 0, 0]], dtype=int32)>,\n",
              " 'input_type_ids': <tf.Tensor: shape=(36473, 75), dtype=int32, numpy=\n",
              " array([[0, 1, 1, ..., 0, 0, 0],\n",
              "        [0, 1, 1, ..., 0, 0, 0],\n",
              "        [0, 1, 1, ..., 0, 0, 0],\n",
              "        ...,\n",
              "        [0, 1, 1, ..., 0, 0, 0],\n",
              "        [0, 1, 1, ..., 0, 0, 0],\n",
              "        [0, 1, 1, ..., 0, 0, 0]], dtype=int32)>,\n",
              " 'input_word_ids': <tf.Tensor: shape=(36473, 75), dtype=int32, numpy=\n",
              " array([[  101, 19557, 18532, ...,     0,     0,     0],\n",
              "        [  101, 19557, 18532, ...,     0,     0,     0],\n",
              "        [  101, 19557, 18532, ...,     0,     0,     0],\n",
              "        ...,\n",
              "        [  101,  4773,  4651, ...,     0,     0,     0],\n",
              "        [  101,  4773,  4651, ...,     0,     0,     0],\n",
              "        [  101,  4773,  4651, ...,     0,     0,     0]], dtype=int32)>}"
            ]
          },
          "execution_count": 29,
          "metadata": {},
          "output_type": "execute_result"
        }
      ],
      "source": [
        "data_train"
      ]
    },
    {
      "cell_type": "code",
      "execution_count": null,
      "metadata": {
        "colab": {
          "base_uri": "https://localhost:8080/"
        },
        "id": "LLTqd8ayTPPi",
        "outputId": "8913caff-3655-4140-fbeb-74498ce78bd1"
      },
      "outputs": [
        {
          "name": "stdout",
          "output_type": "stream",
          "text": [
            "input_word_ids  shape: (36473, 75)\n",
            "input_mask      shape: (36473, 75)\n",
            "input_type_ids  shape: (36473, 75)\n",
            "glue_train_labels shape: (36473,)\n"
          ]
        }
      ],
      "source": [
        "for key, value in data_train.items():\n",
        "  print(f'{key:15s} shape: {value.shape}')\n",
        "\n",
        "print(f'glue_train_labels shape: {data_train_labels.shape}')"
      ]
    },
    {
      "cell_type": "code",
      "execution_count": null,
      "metadata": {
        "id": "cLnSt_a3Lq3k"
      },
      "outputs": [],
      "source": [
        "import tensorflow_text"
      ]
    },
    {
      "cell_type": "code",
      "execution_count": null,
      "metadata": {
        "id": "ujcmy5t2Kpj_"
      },
      "outputs": [],
      "source": [
        "bert_preprocess = hub.KerasLayer(\"https://tfhub.dev/tensorflow/bert_en_uncased_preprocess/3\")\n",
        "bert_encoder = hub.KerasLayer(\"https://tfhub.dev/tensorflow/bert_en_uncased_L-12_H-768_A-12/4\")"
      ]
    },
    {
      "cell_type": "code",
      "execution_count": null,
      "metadata": {
        "id": "69NHKAp6Kqad"
      },
      "outputs": [],
      "source": [
        "text_input = tf.keras.layers.Input(shape=(), dtype=tf.string, name='text')\n",
        "preprocessed_text = bert_preprocess(text_input)\n",
        "preprocessed_text1 = bert_encode(data, tokenizer)\n",
        "outputs = bert_encoder(preprocessed_text)\n",
        "\n",
        "# Neural network layers\n",
        "l = tf.keras.layers.Dropout(0.1, name=\"dropout\")(outputs['pooled_output'])\n",
        "l = tf.keras.layers.Dense(1, activation='sigmoid', name=\"output\")(l)\n",
        "\n",
        "# Use inputs and outputs to construct a final model\n",
        "model = tf.keras.Model(inputs=[text_input], outputs = [l])"
      ]
    },
    {
      "cell_type": "code",
      "execution_count": null,
      "metadata": {
        "colab": {
          "base_uri": "https://localhost:8080/"
        },
        "id": "x_auA59vaWUn",
        "outputId": "05e12669-6008-4fb1-dfcf-682c6577bee3"
      },
      "outputs": [
        {
          "data": {
            "text/plain": [
              "{'input_mask': <tf.Tensor: shape=(1, 128), dtype=int32, numpy=\n",
              " array([[1, 1, 1, 1, 1, 0, 0, 0, 0, 0, 0, 0, 0, 0, 0, 0, 0, 0, 0, 0, 0, 0,\n",
              "         0, 0, 0, 0, 0, 0, 0, 0, 0, 0, 0, 0, 0, 0, 0, 0, 0, 0, 0, 0, 0, 0,\n",
              "         0, 0, 0, 0, 0, 0, 0, 0, 0, 0, 0, 0, 0, 0, 0, 0, 0, 0, 0, 0, 0, 0,\n",
              "         0, 0, 0, 0, 0, 0, 0, 0, 0, 0, 0, 0, 0, 0, 0, 0, 0, 0, 0, 0, 0, 0,\n",
              "         0, 0, 0, 0, 0, 0, 0, 0, 0, 0, 0, 0, 0, 0, 0, 0, 0, 0, 0, 0, 0, 0,\n",
              "         0, 0, 0, 0, 0, 0, 0, 0, 0, 0, 0, 0, 0, 0, 0, 0, 0, 0]],\n",
              "       dtype=int32)>,\n",
              " 'input_type_ids': <tf.Tensor: shape=(1, 128), dtype=int32, numpy=\n",
              " array([[0, 0, 0, 0, 0, 0, 0, 0, 0, 0, 0, 0, 0, 0, 0, 0, 0, 0, 0, 0, 0, 0,\n",
              "         0, 0, 0, 0, 0, 0, 0, 0, 0, 0, 0, 0, 0, 0, 0, 0, 0, 0, 0, 0, 0, 0,\n",
              "         0, 0, 0, 0, 0, 0, 0, 0, 0, 0, 0, 0, 0, 0, 0, 0, 0, 0, 0, 0, 0, 0,\n",
              "         0, 0, 0, 0, 0, 0, 0, 0, 0, 0, 0, 0, 0, 0, 0, 0, 0, 0, 0, 0, 0, 0,\n",
              "         0, 0, 0, 0, 0, 0, 0, 0, 0, 0, 0, 0, 0, 0, 0, 0, 0, 0, 0, 0, 0, 0,\n",
              "         0, 0, 0, 0, 0, 0, 0, 0, 0, 0, 0, 0, 0, 0, 0, 0, 0, 0]],\n",
              "       dtype=int32)>,\n",
              " 'input_word_ids': <tf.Tensor: shape=(1, 128), dtype=int32, numpy=\n",
              " array([[ 101, 3793, 1035, 7953,  102,    0,    0,    0,    0,    0,    0,\n",
              "            0,    0,    0,    0,    0,    0,    0,    0,    0,    0,    0,\n",
              "            0,    0,    0,    0,    0,    0,    0,    0,    0,    0,    0,\n",
              "            0,    0,    0,    0,    0,    0,    0,    0,    0,    0,    0,\n",
              "            0,    0,    0,    0,    0,    0,    0,    0,    0,    0,    0,\n",
              "            0,    0,    0,    0,    0,    0,    0,    0,    0,    0,    0,\n",
              "            0,    0,    0,    0,    0,    0,    0,    0,    0,    0,    0,\n",
              "            0,    0,    0,    0,    0,    0,    0,    0,    0,    0,    0,\n",
              "            0,    0,    0,    0,    0,    0,    0,    0,    0,    0,    0,\n",
              "            0,    0,    0,    0,    0,    0,    0,    0,    0,    0,    0,\n",
              "            0,    0,    0,    0,    0,    0,    0,    0,    0,    0,    0,\n",
              "            0,    0,    0,    0,    0,    0,    0]], dtype=int32)>}"
            ]
          },
          "execution_count": 27,
          "metadata": {},
          "output_type": "execute_result"
        }
      ],
      "source": [
        "bert_preprocess([\"text_input\"])"
      ]
    },
    {
      "cell_type": "code",
      "execution_count": null,
      "metadata": {
        "colab": {
          "base_uri": "https://localhost:8080/"
        },
        "id": "fEHrwkrmcNtU",
        "outputId": "57965516-821f-4208-a2d0-d9c8e1f97530"
      },
      "outputs": [
        {
          "data": {
            "text/plain": [
              "[<tf.Tensor: shape=(1, 1, 768), dtype=float32, numpy=\n",
              " array([[[-3.70505303e-01,  3.48789155e-01,  1.36822259e+00,\n",
              "          -4.12046194e-01, -1.41938591e+00,  6.82782114e-01,\n",
              "          -4.01294678e-01,  7.82847106e-01, -1.49219728e+00,\n",
              "           1.31333709e+00, -7.67044485e-01, -1.44322775e-02,\n",
              "          -9.87113416e-01, -5.26317775e-01, -9.83143926e-01,\n",
              "           9.59602416e-01, -1.76328075e+00, -6.59584045e-01,\n",
              "          -1.28117597e+00, -4.30466473e-01, -8.24903071e-01,\n",
              "          -1.23323095e+00,  1.92763782e+00,  1.41038966e+00,\n",
              "           2.98254609e-01, -1.82035089e+00, -1.97779751e+00,\n",
              "          -6.12401724e-01, -2.23916483e+00, -5.17469525e-01,\n",
              "          -6.24932587e-01,  3.96317849e-03, -1.45558083e+00,\n",
              "          -8.30678791e-02, -4.50654536e-01,  1.27843261e+00,\n",
              "           3.57814394e-02, -1.17306650e+00,  3.48038107e-01,\n",
              "           1.36520863e+00, -2.21299982e+00,  2.36031413e-01,\n",
              "          -1.42809236e+00,  9.50261280e-02,  5.29212952e-02,\n",
              "           5.90637684e-01,  3.33796054e-01,  1.19114661e+00,\n",
              "          -1.21224129e+00, -4.40425605e-01,  1.93061065e-02,\n",
              "           1.23324108e+00,  1.32858112e-01, -5.83391666e-01,\n",
              "           1.57693541e+00,  1.36753690e+00,  9.09767672e-02,\n",
              "           4.01121885e-01, -3.61101210e-01, -2.86166728e-01,\n",
              "          -5.40568948e-01, -4.03725535e-01,  6.27648294e-01,\n",
              "          -1.92766857e+00, -9.66503620e-01, -6.76438034e-01,\n",
              "          -1.90505624e-01,  1.08457699e-01,  1.31300592e+00,\n",
              "           1.28853071e+00, -3.34449530e-01,  1.86505246e+00,\n",
              "           5.51088192e-02,  5.63266993e-01, -1.31740606e+00,\n",
              "          -7.93238878e-01,  8.29383016e-01,  8.27167630e-01,\n",
              "          -5.65373838e-01,  5.28496742e-01, -1.24028456e+00,\n",
              "           2.83062905e-01,  1.24237704e+00,  1.39669466e+00,\n",
              "          -5.50731778e-01, -2.60164291e-01,  5.76246738e-01,\n",
              "           1.87423944e+00,  1.08143330e+00,  1.27087390e+00,\n",
              "           1.52873838e+00,  1.82579327e+00,  3.61281127e-01,\n",
              "           2.31099844e+00, -4.04447824e-01, -1.30464256e-01,\n",
              "           6.15191460e-01, -7.18384206e-01,  1.05374801e+00,\n",
              "           7.37449110e-01,  3.73194069e-01, -1.25535238e+00,\n",
              "          -8.16186726e-01,  8.31513464e-01, -1.43809199e+00,\n",
              "           1.34994042e+00, -7.61897206e-01,  1.15064359e+00,\n",
              "          -1.28279448e+00, -8.13818157e-01,  1.17914602e-02,\n",
              "          -1.15428770e+00, -5.23773611e-01, -9.42872763e-02,\n",
              "          -3.63137037e-01,  6.91372693e-01, -1.13138676e+00,\n",
              "          -4.74933058e-01, -1.88333273e+00, -8.77701461e-01,\n",
              "          -2.01242939e-01,  1.87524867e+00, -1.88116217e+00,\n",
              "           1.60581589e+00,  6.93832994e-01, -7.37976193e-01,\n",
              "           1.70321262e+00, -1.45464098e+00,  1.08909953e+00,\n",
              "          -1.48714113e+00,  1.61360431e+00, -1.01870131e+00,\n",
              "          -9.72966135e-01,  1.63128388e+00,  9.03756261e-01,\n",
              "           5.80518484e-01,  8.71225595e-01,  5.88556230e-01,\n",
              "          -7.32906461e-01, -1.15366948e+00,  8.37129116e-01,\n",
              "          -1.03192404e-02,  1.15799069e+00, -6.83796227e-01,\n",
              "          -7.53157139e-02,  1.10185421e+00, -8.61878768e-02,\n",
              "           4.27454889e-01,  4.02299792e-01, -1.03790247e+00,\n",
              "           7.44343638e-01,  9.19631198e-02,  9.76399302e-01,\n",
              "          -8.36549580e-01, -1.41299337e-01, -1.53874791e+00,\n",
              "          -9.32140350e-01,  9.93384480e-01, -1.01788223e+00,\n",
              "          -2.65953451e-01, -6.32585406e-01,  1.99908525e-01,\n",
              "          -1.58466315e+00, -7.18623161e-01, -1.51918113e+00,\n",
              "           1.80247068e+00,  1.30825937e+00,  2.94283128e+00,\n",
              "          -4.60752100e-01, -4.90302712e-01, -4.44754243e-01,\n",
              "          -1.86262146e-01,  4.18792516e-01,  7.24929273e-01,\n",
              "           2.52384394e-01,  2.72367191e+00,  4.98973429e-01,\n",
              "           7.44626105e-01,  4.84586120e-01, -2.00697112e+00,\n",
              "           5.66866040e-01, -2.72022709e-02, -2.25032568e+00,\n",
              "           1.15212351e-01, -1.68264762e-01, -1.75083959e+00,\n",
              "          -8.79941463e-01,  5.72427988e-01,  4.90563035e-01,\n",
              "          -8.68918717e-01,  6.38965905e-01, -9.18445662e-02,\n",
              "          -2.58589745e-01, -1.12654686e+00,  1.34808242e+00,\n",
              "          -1.95577145e+00, -7.42627084e-01,  1.19104874e+00,\n",
              "           2.04935759e-01,  3.47419202e-01,  5.55847645e-01,\n",
              "           5.45179486e-01, -3.70221615e-01, -5.69057405e-01,\n",
              "           8.94645751e-01, -2.27541852e+00,  3.66535395e-01,\n",
              "          -1.24849543e-01, -4.00916517e-01,  1.41735256e+00,\n",
              "          -9.45299864e-01,  1.20188847e-01,  4.26519811e-02,\n",
              "           8.19628164e-02, -1.13297820e+00,  9.38174129e-01,\n",
              "           1.99381006e+00,  1.91656768e+00, -7.25330591e-01,\n",
              "           1.00657725e+00, -5.55390716e-01, -2.53565454e+00,\n",
              "          -1.83127448e-01,  1.66326964e+00,  1.09242189e+00,\n",
              "          -1.10341012e+00,  6.01221919e-01, -8.05425048e-02,\n",
              "           1.18474150e+00, -2.89996155e-02, -8.89848918e-02,\n",
              "           1.75209150e-01,  2.34760717e-01, -3.45360458e-01,\n",
              "           1.10744560e+00, -9.58935738e-01,  6.36136174e-01,\n",
              "          -1.53234577e+00,  1.20975685e+00, -2.14165941e-01,\n",
              "          -5.18113017e-01,  6.69313908e-01, -4.15737867e-01,\n",
              "           1.14176202e+00,  9.96713579e-01, -8.42244387e-01,\n",
              "          -2.28490561e-01,  6.52584016e-01,  5.84466159e-01,\n",
              "           2.01097444e-01,  1.56490624e+00,  8.78610611e-01,\n",
              "          -1.09493208e+00,  7.90053979e-03,  4.15704608e-01,\n",
              "          -1.24119377e+00, -1.84449237e-02,  1.37887344e-01,\n",
              "           1.34689677e+00,  9.93138313e-01, -1.89885706e-01,\n",
              "          -1.75086960e-01,  4.57629651e-01, -9.43174064e-01,\n",
              "           3.30741107e-01, -1.12806487e+00,  9.87470865e-01,\n",
              "           1.68744016e+00, -4.26578730e-01, -8.29737663e-01,\n",
              "           1.40891090e-01, -8.41058552e-01, -2.86971107e-02,\n",
              "          -2.39367753e-01, -1.08682466e+00, -1.62131011e+00,\n",
              "           5.11092186e-01, -6.84949458e-01,  3.28575492e-01,\n",
              "           3.72968197e-01,  8.30647707e-01, -1.13250637e+00,\n",
              "           1.24969520e-01,  5.80016255e-01, -1.53597459e-01,\n",
              "           2.45737638e-02,  3.70011963e-02, -9.05251503e-01,\n",
              "           3.28769721e-02, -4.32802774e-02, -7.80444205e-01,\n",
              "           1.18383110e+00, -1.52694821e+00,  1.55388081e+00,\n",
              "           2.37879801e+00,  1.60434857e-01, -3.02514620e-02,\n",
              "           8.42688918e-01, -4.47312117e-01, -4.71168816e-01,\n",
              "          -2.22280788e+00, -9.69505832e-02, -3.59454960e-01,\n",
              "          -1.19008079e-01,  8.18224549e-01, -1.27779424e-01,\n",
              "           2.08239460e+00,  9.40053403e-01, -7.12727010e-01,\n",
              "          -6.28577471e-01, -1.14365089e+00,  2.81174809e-01,\n",
              "          -5.67672431e-01, -3.59880567e-01, -4.71604913e-01,\n",
              "           1.67887077e-01,  1.37653935e+00, -1.69581330e+00,\n",
              "          -1.29827046e+00, -1.21678543e+00, -1.59470320e-01,\n",
              "           1.44096434e+00,  3.11652094e-01,  1.02991033e+00,\n",
              "          -7.25068212e-01, -6.25720441e-01, -3.99608731e-01,\n",
              "           1.41086698e+00,  1.42936373e+00, -1.94014561e+00,\n",
              "           1.10421337e-01,  8.89083505e-01,  8.53150249e-01,\n",
              "          -1.26272082e+00,  8.61498833e-01,  1.65382326e+00,\n",
              "          -1.61564469e+00, -1.04215153e-01, -1.00963700e+00,\n",
              "          -5.86965442e-01, -1.56104946e+00, -1.49389243e+00,\n",
              "          -1.04663000e-01,  1.24256790e-01, -4.84810144e-01,\n",
              "           1.80820525e-01,  3.54831032e-02, -8.41947258e-01,\n",
              "          -2.14169860e+00,  1.46844149e-01,  1.10729583e-01,\n",
              "          -7.75386155e-01,  1.33930254e+00,  1.09896898e+00,\n",
              "          -1.56981790e+00, -4.43577379e-01, -9.14152443e-01,\n",
              "           2.98127949e-01,  2.87054867e-01,  1.01616383e-01,\n",
              "          -3.60159606e-01, -1.02022302e+00,  9.54439998e-01,\n",
              "           4.89006877e-01,  2.33745411e-01,  3.22524041e-01,\n",
              "           1.42164249e-02, -1.06976402e+00, -2.70647466e-01,\n",
              "          -1.84799358e-02, -9.60366786e-01, -1.02891243e+00,\n",
              "           1.02917802e+00, -1.07207581e-01,  7.50038207e-01,\n",
              "           1.72137427e+00,  1.57453871e+00, -1.31948006e+00,\n",
              "          -9.03490305e-01, -2.38365948e-01, -1.32810310e-01,\n",
              "           8.29509556e-01, -1.00334752e+00, -2.24037337e+00,\n",
              "          -2.08521441e-01, -4.85123694e-01, -1.32715237e+00,\n",
              "           5.80220520e-01,  1.97573259e-01, -2.31933713e+00,\n",
              "          -1.10844803e+00,  2.41392434e-01, -3.27385753e-01,\n",
              "           9.36422765e-01, -1.79255235e+00,  2.90294588e-01,\n",
              "          -1.44186628e+00, -4.83361632e-01, -1.15348659e-01,\n",
              "           4.19631094e-01, -1.88365722e+00,  1.78081584e+00,\n",
              "          -1.32846888e-02,  7.58072734e-01,  3.26230526e-01,\n",
              "          -1.21321630e+00, -2.68416643e+00,  9.27299440e-01,\n",
              "           8.65367711e-01, -6.64022028e-01,  5.45657873e-01,\n",
              "           8.68798792e-01, -1.70833588e+00, -1.16172217e-01,\n",
              "           1.73140824e-01,  7.27919877e-01,  2.07173586e-01,\n",
              "           8.09826732e-01, -3.25938135e-01, -1.02877116e+00,\n",
              "           9.95550513e-01,  7.27114856e-01, -1.35518050e+00,\n",
              "           2.17151475e+00, -1.17512870e+00,  1.32313231e-02,\n",
              "           1.41687751e+00, -1.24002469e+00, -2.89707780e-01,\n",
              "           9.78115797e-01, -5.89678526e-01, -4.10990834e-01,\n",
              "          -1.11481823e-01,  6.92938447e-01, -7.54590034e-01,\n",
              "          -3.17527175e-01, -5.72083592e-01, -1.19544029e-01,\n",
              "          -1.15294659e+00, -3.88481379e-01, -2.75173634e-01,\n",
              "           7.15759158e-01, -1.89961880e-01, -1.00773728e+00,\n",
              "          -6.01380765e-02, -1.80517927e-01, -1.76627409e+00,\n",
              "          -1.45152402e+00,  1.13930881e+00,  1.81323123e+00,\n",
              "           1.28539920e+00, -9.90084350e-01,  3.27073783e-01,\n",
              "           1.70670301e-02,  3.18110168e-01,  2.50284106e-01,\n",
              "          -1.02058780e+00, -1.57338965e+00, -6.86134398e-01,\n",
              "           2.86626339e-01, -4.80688274e-01,  2.45738983e-01,\n",
              "           5.37438393e-01,  6.90328598e-01, -5.51188111e-01,\n",
              "           1.28702843e+00,  1.02327001e+00, -2.60601223e-01,\n",
              "          -5.80962539e-01, -1.52742237e-01,  1.37680924e+00,\n",
              "           1.72898635e-01, -1.91197991e-01,  8.13453376e-01,\n",
              "          -2.52238214e-02, -7.44884729e-01, -1.32594705e-01,\n",
              "          -2.02007756e-01, -1.74334971e-03,  1.21412553e-01,\n",
              "           6.02479160e-01, -8.42114687e-01,  6.63018942e-01,\n",
              "           1.29848564e+00,  6.57352924e-01,  2.44354653e+00,\n",
              "           4.22662139e-01,  1.17191148e+00, -8.95797193e-01,\n",
              "           4.85282838e-01,  1.42622781e+00,  1.51896918e+00,\n",
              "          -7.66259551e-01,  3.48139912e-01,  1.00990415e+00,\n",
              "           2.15085194e-01,  1.42860651e+00, -1.25565219e+00,\n",
              "           5.34761667e-01,  3.24159831e-01,  3.14092606e-01,\n",
              "          -9.49303567e-01, -1.18106461e+00, -3.07533205e-01,\n",
              "          -8.46802711e-01, -3.81989986e-01, -8.59083533e-01,\n",
              "           1.27874148e+00, -1.72843242e+00, -2.20636338e-01,\n",
              "           1.35031366e+00, -1.53850830e+00,  9.18313622e-01,\n",
              "          -5.96724868e-01, -1.57800198e+00, -9.60947692e-01,\n",
              "          -9.30993259e-01,  1.30051255e+00,  1.18577611e+00,\n",
              "           1.83644488e-01,  8.04899514e-01,  3.80514786e-02,\n",
              "           1.11516528e-01,  1.25597262e+00,  8.15488696e-01,\n",
              "           2.35571122e+00, -1.14439750e+00,  1.84156761e-01,\n",
              "           1.56710637e+00,  1.08626604e+00,  6.04965687e-01,\n",
              "           2.14722931e-01, -5.27077794e-01, -9.36947584e-01,\n",
              "           5.51871061e-01, -1.88962805e+00, -2.41738409e-02,\n",
              "          -1.77285537e-01,  5.51081657e-01, -4.86699909e-01,\n",
              "           6.91832423e-01, -1.57127869e+00,  7.35434234e-01,\n",
              "           2.45497674e-01,  1.36673772e+00, -1.79452169e+00,\n",
              "          -8.66157413e-01, -2.45842755e-01, -1.42565712e-01,\n",
              "          -2.75292806e-02, -3.02633375e-01, -3.87971878e-01,\n",
              "           7.96989724e-02, -6.57167912e-01,  6.52989984e-01,\n",
              "           1.62070632e+00,  3.50018553e-02, -1.33697057e+00,\n",
              "           3.82199496e-01, -4.79880184e-01,  2.55955398e-01,\n",
              "           2.45601445e-01, -1.33079875e+00,  1.24329758e+00,\n",
              "           1.53695011e+00,  4.87829506e-01, -7.76088715e-01,\n",
              "          -2.95813948e-01,  6.69793308e-01,  1.04176641e+00,\n",
              "           1.85666525e+00, -9.44513202e-01,  1.52595854e+00,\n",
              "           1.72947633e+00, -4.50267106e-01,  2.72491723e-02,\n",
              "           9.66436267e-01, -1.06900677e-01, -1.42016757e+00,\n",
              "          -2.02375841e+00,  7.39633322e-01, -7.87110865e-01,\n",
              "          -3.36113006e-01,  9.74216521e-01, -1.18832493e+00,\n",
              "           4.74975526e-01,  9.31652427e-01,  2.72623599e-01,\n",
              "          -1.48606336e+00,  4.72220421e-01,  1.32679731e-01,\n",
              "          -1.13665462e+00,  8.58228147e-01, -8.76589119e-01,\n",
              "          -4.24895883e-01,  7.35692382e-01,  1.44102287e+00,\n",
              "           1.70628679e+00,  2.31086564e+00, -4.32760090e-01,\n",
              "           1.36956125e-01, -2.31240869e+00, -6.95464909e-01,\n",
              "           9.69337761e-01,  8.98280680e-01, -1.17208362e+00,\n",
              "           1.39335442e+00, -1.90479982e+00,  2.37902164e-01,\n",
              "           2.19038963e+00, -7.05351949e-01,  1.32028043e+00,\n",
              "          -1.07967389e+00, -1.62042451e+00,  7.94360518e-01,\n",
              "           7.75555015e-01, -8.49218667e-01,  9.53192174e-01,\n",
              "           1.30013406e+00,  5.03011122e-02,  2.68071026e-01,\n",
              "           2.59536147e+00,  6.74161255e-01, -2.29334068e+00,\n",
              "           1.49267673e+00,  1.27449262e+00, -1.23097754e+00,\n",
              "           2.82981426e-01,  8.13228786e-01, -1.04863858e+00,\n",
              "          -9.39949811e-01,  3.97629976e-01,  1.96207201e+00,\n",
              "           8.36302698e-01,  9.53591466e-01, -2.00812268e+00,\n",
              "          -4.53151107e-01, -8.89197290e-01, -4.99765605e-01,\n",
              "          -7.81661510e-01, -7.67407656e-01,  5.89983106e-01,\n",
              "          -2.87808597e-01,  6.53204203e-01,  1.64956176e+00,\n",
              "           2.07276607e+00,  2.01564741e+00,  3.18665653e-01,\n",
              "          -6.58606231e-01,  3.59737813e-01,  5.90869069e-01,\n",
              "          -1.11914611e+00, -5.56546986e-01, -9.44683135e-01,\n",
              "           3.84937346e-01,  1.45683551e+00,  4.58233565e-01,\n",
              "           5.64372599e-01, -2.28329286e-01,  2.62822568e-01,\n",
              "          -1.26664531e+00,  1.04450858e+00,  6.27399683e-01,\n",
              "           6.17935598e-01, -1.53310633e+00,  4.34250146e-01,\n",
              "           1.39055848e+00, -5.93508959e-01,  1.19819999e-01,\n",
              "          -5.42174697e-01,  7.91929066e-02,  7.51818657e-01,\n",
              "          -2.66520709e-01, -3.91783834e-01,  4.87155356e-02,\n",
              "           3.28085631e-01, -4.70805526e-01,  4.64606971e-01,\n",
              "           9.14928377e-01, -6.73013628e-01, -2.93039829e-01,\n",
              "           5.36055081e-02, -1.62138057e+00, -6.96374595e-01,\n",
              "          -6.47545755e-01,  1.90125108e+00, -1.56862274e-01,\n",
              "           5.31262040e-01, -1.00037587e+00,  8.35457146e-02,\n",
              "           6.41595423e-02,  2.35318542e-01, -8.38571116e-02,\n",
              "          -4.21031535e-01,  6.79333866e-01, -2.59254247e-01,\n",
              "          -7.94896603e-01, -7.62882233e-02, -8.64079148e-02,\n",
              "          -6.46924436e-01, -1.07663870e+00,  1.36154354e+00,\n",
              "          -1.62533998e-01, -9.97881353e-01, -1.92382646e+00,\n",
              "          -2.69067854e-01,  5.97415507e-01, -1.74124134e+00,\n",
              "          -4.04198974e-01, -1.89061522e-01,  1.59356499e+00,\n",
              "           1.95479095e+00,  3.59163553e-01,  4.96501654e-01,\n",
              "          -1.10419309e+00,  5.83923697e-01,  9.02470291e-01,\n",
              "           5.40052295e-01,  5.84729671e-01,  1.88852465e+00,\n",
              "          -3.41093481e-01,  2.78356880e-01, -5.35798222e-02,\n",
              "          -7.97171056e-01,  1.55104005e+00,  8.33594322e-01,\n",
              "          -1.18099284e+00,  7.12259114e-01, -7.37840831e-01,\n",
              "           5.02237916e-01,  1.20039307e-01, -1.52512026e+00,\n",
              "           3.15283649e-02, -2.07461023e+00,  7.40002215e-01,\n",
              "          -1.10537267e+00,  1.02743340e+00, -6.75069213e-01,\n",
              "           3.24774623e-01, -4.95212227e-01, -7.08416224e-01,\n",
              "           2.43327484e-01, -2.35143566e+00, -4.40974504e-01,\n",
              "          -7.91285187e-02, -1.03123999e+00,  1.20559227e+00,\n",
              "           6.78911150e-01,  2.75510013e-01,  1.81621170e+00,\n",
              "          -1.91088021e-01, -7.54012167e-02, -3.40295672e-01,\n",
              "           6.85090899e-01,  1.17649913e+00, -7.88227320e-01,\n",
              "          -8.25480342e-01, -1.26639271e+00,  1.79165825e-01,\n",
              "          -9.15773869e-01,  1.99441127e-02, -3.43611389e-01,\n",
              "          -9.55333531e-01, -4.51103389e-01, -5.35011709e-01,\n",
              "          -6.34158999e-02, -1.25751302e-01,  1.00406444e+00]]],\n",
              "       dtype=float32)>, <tf.Tensor: shape=(1, 768), dtype=float32, numpy=\n",
              " array([[-4.92007174e-02, -2.17392549e-01,  3.37894142e-01,\n",
              "          3.15218866e-01,  3.12651992e-01,  4.44058031e-01,\n",
              "         -5.45645654e-01,  1.49441764e-01,  2.61917531e-01,\n",
              "          4.02812153e-01,  3.77485598e-03, -3.82630110e-01,\n",
              "          3.90003711e-01, -1.08438164e-01, -3.98200035e-01,\n",
              "         -2.31943384e-01,  7.21044540e-01,  3.01497966e-01,\n",
              "         -5.37412882e-01, -3.60229731e-01,  4.25674707e-01,\n",
              "          2.37558559e-01,  7.93819904e-01, -3.11235577e-01,\n",
              "          3.31422150e-01,  6.72007501e-01,  1.76289111e-01,\n",
              "          6.66978896e-01, -6.20217681e-01, -3.34928304e-01,\n",
              "          1.25104249e-01, -9.79340374e-02, -2.61834383e-01,\n",
              "         -2.45203897e-01,  9.37457502e-01, -6.25444353e-01,\n",
              "         -5.99179864e-01, -1.68799788e-01,  2.65898824e-01,\n",
              "          5.10591745e-01,  2.62188405e-01, -7.62449682e-01,\n",
              "         -3.89842361e-01, -2.60998875e-01, -1.91685528e-01,\n",
              "         -3.83389860e-01, -3.16078573e-01,  2.84633934e-01,\n",
              "         -4.50879306e-01,  2.92564452e-01, -8.03968012e-01,\n",
              "         -4.21957195e-01, -9.04051960e-01,  3.04199070e-01,\n",
              "          5.22772431e-01, -7.16801345e-01, -8.45174909e-01,\n",
              "         -7.08051175e-02,  4.35107827e-01, -3.04819673e-01,\n",
              "          3.04523706e-01,  7.33640730e-01,  1.99451014e-01,\n",
              "          4.29265708e-01,  7.26516724e-01, -5.33613026e-01,\n",
              "          2.05285296e-01,  2.52578318e-01, -4.73907590e-01,\n",
              "         -3.45994145e-01, -4.94317859e-01, -1.38925150e-01,\n",
              "          5.20002067e-01, -2.16579288e-01,  3.21507454e-04,\n",
              "          1.91604644e-01,  7.53465474e-01,  7.31931403e-02,\n",
              "          5.62817812e-01,  1.80352822e-01, -1.37945399e-01,\n",
              "          2.09926173e-01,  4.34918553e-01, -1.63766831e-01,\n",
              "         -2.91479409e-01,  1.22801602e-01,  5.98104239e-01,\n",
              "         -1.81216285e-01, -2.59858072e-01,  6.82529867e-01,\n",
              "          1.45782977e-01,  4.94809419e-01, -4.87355560e-01,\n",
              "          2.58546293e-01, -1.45180553e-01,  3.80041569e-01,\n",
              "          3.42102677e-01,  2.56742507e-01, -4.19610620e-01,\n",
              "         -7.81891346e-01, -1.30171567e-01,  1.69076145e-01,\n",
              "         -8.42423961e-02,  2.30013281e-01, -4.63516414e-01,\n",
              "          6.68994188e-01,  4.20915514e-01, -3.19995463e-01,\n",
              "         -3.94302398e-01, -3.68843108e-01,  2.14283347e-01,\n",
              "         -7.29687288e-02, -1.54353946e-01, -5.89254647e-02,\n",
              "         -1.77959308e-01, -5.58656514e-01,  2.35422533e-02,\n",
              "         -3.17883104e-01,  6.77288711e-01, -4.82870638e-01,\n",
              "         -6.04870796e-01,  1.33255884e-01,  6.51618838e-01,\n",
              "         -5.25601394e-02,  3.70867640e-01,  4.51414526e-01,\n",
              "         -4.65499889e-03, -6.56763762e-02,  3.87937367e-01,\n",
              "         -2.00459167e-01, -3.72871101e-01, -3.86635244e-01,\n",
              "         -2.56989568e-01,  1.00609316e-02,  8.67051110e-02,\n",
              "          1.75788790e-01, -1.85373034e-02,  7.89160188e-03,\n",
              "          5.69725335e-01, -3.89244229e-01, -5.29567719e-01,\n",
              "          7.01706231e-01,  5.03033042e-01, -2.25592285e-01,\n",
              "         -2.67195612e-01, -7.22882152e-01, -1.91942126e-01,\n",
              "          3.10055822e-01, -5.29675126e-01,  3.52431297e-01,\n",
              "          7.80420005e-01,  7.54269361e-02, -5.15620828e-01,\n",
              "          5.26023805e-02, -3.55157435e-01,  4.03646111e-01,\n",
              "          3.37125778e-01,  8.33155632e-01,  1.67786688e-01,\n",
              "          5.49655378e-01,  5.39379656e-01,  5.81653267e-02,\n",
              "          2.39827588e-01,  3.66604865e-01,  4.84559327e-01,\n",
              "         -3.43452930e-01,  6.17006183e-01,  2.57676601e-01,\n",
              "         -2.59628236e-01, -2.56388962e-01,  7.30597794e-01,\n",
              "         -3.23494852e-01,  5.00320554e-01, -3.56888980e-01,\n",
              "          1.94977522e-01, -3.66889119e-01, -4.65290427e-01,\n",
              "          5.62080204e-01, -4.45758492e-01,  3.44010383e-01,\n",
              "         -2.29775235e-01,  5.95972419e-01, -1.09971985e-01,\n",
              "          1.71674177e-01,  1.62742719e-01,  3.11796606e-01,\n",
              "          4.79422547e-02, -4.42562819e-01,  3.89928609e-01,\n",
              "          9.58478332e-01, -2.78854910e-02, -1.93990499e-01,\n",
              "         -2.17989653e-01,  1.72849596e-01, -1.37727626e-03,\n",
              "         -3.10108304e-01,  1.32271454e-01,  2.15117857e-02,\n",
              "          5.66221476e-01, -1.55130371e-01,  3.36365670e-01,\n",
              "          6.99435845e-02, -6.16876423e-01,  5.61167717e-01,\n",
              "          7.26579547e-01,  5.45811690e-02, -4.81481478e-02,\n",
              "         -1.76674023e-01,  3.12747031e-01,  3.81930739e-01,\n",
              "         -5.55293560e-01,  5.47610402e-01, -5.56737304e-01,\n",
              "         -3.36094141e-01, -1.70784101e-01, -2.06648558e-02,\n",
              "         -4.36237186e-01,  4.95503157e-01, -1.32289767e-01,\n",
              "          6.17601454e-01, -3.12985063e-01,  4.94094580e-01,\n",
              "          5.29916048e-01, -8.04084957e-01,  3.09522957e-01,\n",
              "          5.03185868e-01,  4.67061311e-01,  3.59903634e-01,\n",
              "          6.34496272e-01,  2.56326109e-01, -6.32755280e-01,\n",
              "          1.32287750e-02,  7.29896352e-02, -1.75133169e-01,\n",
              "         -5.15602231e-01,  8.44671309e-01,  5.80912769e-01,\n",
              "         -2.78421462e-01, -1.22014269e-01, -1.68398514e-01,\n",
              "          5.15870452e-01,  4.71695624e-02, -4.35239673e-01,\n",
              "         -2.55975127e-01, -4.75492887e-02, -4.99166489e-01,\n",
              "          5.20029590e-02,  4.58444059e-01,  1.37186483e-01,\n",
              "          1.38850704e-01, -5.91859698e-01,  4.89271879e-01,\n",
              "          2.43300870e-02, -3.69129360e-01, -5.74763954e-01,\n",
              "          8.66882920e-01, -3.78845990e-01, -4.30526435e-01,\n",
              "         -4.15792018e-01,  6.05375051e-01,  1.50237054e-01,\n",
              "         -2.43345737e-01, -7.19022393e-01, -6.66322231e-01,\n",
              "         -2.60692209e-01, -6.40446424e-01,  7.70624459e-01,\n",
              "          1.41758859e-01, -1.11272642e-02,  6.20697848e-02,\n",
              "          1.48445880e-02, -2.64998265e-02,  7.91274846e-01,\n",
              "          6.63262844e-01,  5.21289825e-01,  2.95260459e-01,\n",
              "          4.85217869e-01, -3.21231633e-01,  6.05096519e-01,\n",
              "          2.84104884e-01, -2.59710461e-01,  8.26829016e-01,\n",
              "          2.25739479e-01, -1.83357611e-01,  5.05690873e-01,\n",
              "         -4.73283589e-01, -4.17015076e-01, -6.66840136e-01,\n",
              "         -4.57364053e-01,  6.64410710e-01,  4.42957848e-01,\n",
              "         -3.67923826e-01, -4.02735651e-01,  2.76945591e-01,\n",
              "          5.12133539e-01, -2.39586428e-01,  5.40138781e-01,\n",
              "          1.50341779e-01, -8.29829872e-01, -7.35355854e-01,\n",
              "         -5.30673742e-01, -2.91264623e-01, -1.44565389e-01,\n",
              "          5.62374890e-01,  4.18318063e-01, -4.68699992e-01,\n",
              "          5.07484436e-01,  1.77763328e-01, -6.15968183e-02,\n",
              "          3.78705889e-01, -3.50701302e-01,  1.34686232e-01,\n",
              "          6.38982356e-01, -4.03956294e-01,  4.40743774e-01,\n",
              "          4.69423145e-01,  2.43336260e-02,  5.80282174e-02,\n",
              "          1.67658478e-01, -2.29534969e-01, -1.08215749e-01,\n",
              "         -4.17443633e-01,  5.48776209e-01,  8.07328969e-02,\n",
              "          3.83494347e-01,  4.91598785e-01,  1.73118934e-01,\n",
              "         -4.97669041e-01,  1.66828364e-01,  3.15938860e-01,\n",
              "         -8.42605159e-02,  6.42729759e-01, -4.04929847e-01,\n",
              "         -5.39318211e-02,  3.76494735e-01,  1.86383262e-01,\n",
              "         -2.44841632e-02,  2.11007804e-01,  4.83546138e-01,\n",
              "         -7.48016834e-02, -7.11689293e-01,  1.45121083e-01,\n",
              "         -2.26464480e-01,  3.70538831e-01, -4.82491285e-01,\n",
              "         -6.27939284e-01,  9.24684033e-02,  3.89763951e-01,\n",
              "          5.55266619e-01,  3.20731938e-01,  4.41715986e-01,\n",
              "         -6.93491578e-01, -2.90388018e-01, -4.38691407e-01,\n",
              "         -1.87662274e-01,  9.71030816e-02,  2.08528370e-01,\n",
              "          1.09993003e-01,  7.49335647e-01,  1.59660995e-01,\n",
              "         -3.61163080e-01, -5.65411150e-01, -2.18050137e-01,\n",
              "         -5.94025910e-01, -2.75112391e-01, -6.24208987e-01,\n",
              "          3.78785014e-01,  4.21452165e-01, -7.35914171e-01,\n",
              "         -6.05173409e-01, -2.24739164e-01, -5.19376576e-01,\n",
              "          9.40510869e-01, -7.38875806e-01,  2.63474286e-01,\n",
              "          2.78280824e-01, -5.26831485e-02,  7.33421147e-01,\n",
              "         -1.41184717e-01,  3.01236600e-01, -1.19180508e-01,\n",
              "          1.69404168e-02, -1.59224838e-01, -6.53477848e-01,\n",
              "          6.00318126e-02,  5.93321212e-02, -1.22244731e-01,\n",
              "          3.13373059e-02, -2.44117558e-01,  3.42405111e-01,\n",
              "         -2.75143743e-01,  2.17474222e-01, -7.59581983e-01,\n",
              "         -4.73964751e-01,  2.47584172e-02,  2.90721565e-01,\n",
              "          2.26945490e-01,  6.37368321e-01,  4.94820625e-01,\n",
              "         -1.50238767e-01,  1.38666444e-02, -5.95107526e-02,\n",
              "          2.74192691e-01,  3.85316283e-01, -2.04225909e-02,\n",
              "         -4.89917219e-01, -2.85077617e-02, -8.44293654e-01,\n",
              "          8.74418616e-01,  2.94151306e-01,  2.68535137e-01,\n",
              "         -5.96831143e-01,  3.82102966e-01, -6.23464048e-01,\n",
              "         -2.03177989e-01, -5.20218968e-01,  4.73599851e-01,\n",
              "          5.85109591e-01, -9.89960283e-02, -8.16017807e-01,\n",
              "         -4.94116172e-02,  1.81146368e-01,  3.22570622e-01,\n",
              "         -2.50287533e-01,  4.15224433e-01,  1.39958292e-01,\n",
              "          3.96380611e-02, -3.46467465e-01,  3.06560487e-01,\n",
              "         -1.62435368e-01, -2.65773028e-01,  3.87918651e-02,\n",
              "          3.87489200e-01,  1.16409212e-01, -4.85049337e-01,\n",
              "         -3.88983339e-01,  1.73443273e-01,  5.21846533e-01,\n",
              "          3.76245111e-01,  5.00491202e-01, -2.12980300e-01,\n",
              "          3.69325310e-01,  4.79186028e-01, -3.20946246e-01,\n",
              "         -6.10987609e-03, -2.12144628e-01, -3.84631276e-01,\n",
              "          1.44312024e-01, -5.18034756e-01, -7.15886474e-01,\n",
              "          7.56506443e-01, -1.31420180e-01,  1.13407508e-01,\n",
              "          1.91397324e-01, -2.89526343e-01,  3.29858154e-01,\n",
              "          6.55940115e-01,  3.31220068e-02,  2.53921300e-01,\n",
              "         -7.21822977e-02,  4.12277319e-02, -1.48764029e-01,\n",
              "          1.73331946e-01, -2.96746701e-01, -5.40382206e-01,\n",
              "          7.25556836e-02, -7.43609965e-02,  4.79866982e-01,\n",
              "         -2.64793873e-01, -3.30218188e-02, -8.11159462e-02,\n",
              "         -7.38088906e-01,  2.79223919e-01,  8.23820949e-01,\n",
              "          6.58091724e-01, -5.53168297e-01, -5.77375293e-01,\n",
              "          2.41087735e-01,  3.98849398e-01, -4.67988461e-01,\n",
              "         -6.98135614e-01, -1.83559790e-01,  3.62850219e-01,\n",
              "          2.28874579e-01,  2.94754375e-02, -5.63526988e-01,\n",
              "         -7.36524940e-01,  6.67143285e-01,  8.39380741e-01,\n",
              "          1.40855372e-01,  6.92069471e-01,  4.69108462e-01,\n",
              "          1.36074990e-01,  3.66975248e-01, -4.99344885e-01,\n",
              "          1.04165468e-02, -6.39850616e-01, -4.53719161e-02,\n",
              "         -6.69670045e-01,  1.02041043e-01, -4.68351781e-01,\n",
              "         -3.90016824e-01, -4.35980856e-01, -1.97703559e-02,\n",
              "         -5.41370392e-01,  2.80874193e-01,  9.30484831e-02,\n",
              "         -4.77520406e-01,  5.53933322e-01, -1.72659252e-02,\n",
              "          4.01399821e-01,  1.71808258e-01,  3.53422984e-02,\n",
              "          2.28424400e-01, -5.51889896e-01, -8.06659639e-01,\n",
              "         -2.95510411e-01,  6.44147024e-02,  8.54854360e-02,\n",
              "          5.32845378e-01, -1.43854961e-01,  5.47051430e-01,\n",
              "         -8.66321445e-01,  5.54693751e-02,  8.04470003e-01,\n",
              "         -8.39457750e-01, -3.31628233e-01,  6.05452538e-01,\n",
              "          4.12130713e-01, -4.94723916e-02, -1.22471079e-01,\n",
              "         -5.58958352e-01, -3.00303519e-01,  5.48339248e-01,\n",
              "          5.23373425e-01,  5.13192713e-01,  1.92334011e-01,\n",
              "          3.81390482e-01, -2.58268386e-01, -3.82160962e-01,\n",
              "          3.02248567e-01, -4.04391170e-01,  1.56086490e-01,\n",
              "         -1.31216019e-01, -4.33671266e-01,  2.95893639e-01,\n",
              "         -3.50056887e-01,  2.60579079e-01,  8.09731662e-01,\n",
              "          1.91816822e-01, -1.66777983e-01,  2.11877543e-02,\n",
              "         -4.22670282e-02, -2.13916451e-01,  2.86455452e-01,\n",
              "          2.48427749e-01,  6.33942902e-01,  2.76577741e-01,\n",
              "         -3.21543783e-01,  5.19582868e-01, -1.78129226e-01,\n",
              "          5.73879063e-01, -3.10937285e-01,  4.11310434e-01,\n",
              "          4.03960645e-01, -4.75663275e-01, -4.61475819e-01,\n",
              "         -8.07333171e-01,  7.36618638e-01, -4.00202781e-01,\n",
              "          1.49561337e-03,  6.55854940e-01,  6.61415607e-02,\n",
              "          7.31858552e-01, -1.89554617e-02,  7.06022501e-01,\n",
              "          1.92000479e-01, -8.54471326e-02, -4.59919125e-01,\n",
              "          5.08107841e-01,  2.10289240e-01, -4.60816652e-01,\n",
              "         -3.11654419e-01, -5.56887388e-01,  5.40136173e-02,\n",
              "         -2.32350707e-01, -2.87921458e-01,  2.14193672e-01,\n",
              "         -4.11003917e-01,  3.61567944e-01, -6.22992158e-01,\n",
              "          1.23842523e-01, -1.23392016e-01,  3.99884403e-01,\n",
              "         -1.84242517e-01,  3.50816511e-02, -1.22737043e-01,\n",
              "          2.50016630e-01,  1.75645575e-01,  4.05071497e-01,\n",
              "          7.67409205e-01, -3.41818184e-01, -3.64287317e-01,\n",
              "          5.23824453e-01, -1.42968670e-02, -3.53923142e-02,\n",
              "          2.11467296e-01,  2.87602931e-01,  2.21924260e-01,\n",
              "          9.99994725e-02,  6.12057328e-01, -4.25295621e-01,\n",
              "          2.58373410e-01,  6.62740946e-01, -1.44503683e-01,\n",
              "          5.46528876e-01,  2.76998907e-01,  2.80232251e-01,\n",
              "          2.41543218e-01, -3.67772914e-02, -4.54318970e-01,\n",
              "         -7.49763399e-02,  3.69221717e-01, -2.48039141e-01,\n",
              "          6.68336749e-01, -8.37468088e-01, -1.28776610e-01,\n",
              "          4.06175315e-01, -3.45038384e-01, -3.92408222e-01,\n",
              "          6.34577453e-01, -4.17802423e-01, -5.88563979e-01,\n",
              "          2.39936844e-01,  4.77675535e-02, -3.96545768e-01,\n",
              "          1.67432845e-01, -3.13258171e-01,  4.15645152e-01,\n",
              "         -4.36103381e-02,  1.15467124e-01, -3.61227900e-01,\n",
              "          4.70469475e-01,  2.53703892e-01, -3.87935191e-01,\n",
              "          6.87031150e-01, -7.40313768e-01, -7.00351357e-01,\n",
              "         -3.70920062e-01,  5.78820288e-01,  5.79587102e-01,\n",
              "         -4.51386511e-01, -3.60920072e-01, -2.04732224e-01,\n",
              "         -3.56868625e-01, -5.53674221e-01,  2.12966368e-01,\n",
              "         -3.52968991e-01, -8.11102986e-03,  2.51000255e-01,\n",
              "          3.56357098e-01, -6.74264789e-01, -2.46387348e-01,\n",
              "          4.93560284e-01, -2.42379367e-01, -7.81026959e-01,\n",
              "          5.90360999e-01, -1.97736695e-01, -7.21260726e-01,\n",
              "          1.78392738e-01, -4.11502272e-01, -6.04374945e-01,\n",
              "          3.18999916e-01, -4.47832257e-01,  5.84981620e-01,\n",
              "         -2.01250166e-01, -1.19263545e-01,  2.31694520e-01,\n",
              "          2.26261377e-01,  6.40426278e-01, -4.04417008e-01,\n",
              "          4.86329019e-01,  5.86743951e-02,  2.92077544e-03,\n",
              "         -7.93575227e-01, -9.89043340e-02,  6.70283958e-02,\n",
              "         -3.93938035e-01,  6.44669116e-01, -2.59868819e-02,\n",
              "          6.05067849e-01, -1.18475035e-01, -6.77727640e-01,\n",
              "         -2.31891111e-01,  2.17857122e-01,  7.85582781e-01,\n",
              "          1.11988306e-01,  2.13616550e-01, -6.56005800e-01,\n",
              "         -9.45545256e-01,  6.39971375e-01,  3.75160187e-01,\n",
              "         -2.05779448e-01,  4.27355878e-02,  6.99572325e-01,\n",
              "         -1.74483299e-01,  9.98622626e-02,  8.40439737e-01,\n",
              "          5.13009608e-01,  4.27904986e-02,  2.79670238e-01,\n",
              "          5.09977974e-02,  1.01162098e-01,  2.09949642e-01,\n",
              "         -7.52341270e-01, -2.01724187e-01, -2.95912594e-01,\n",
              "          1.23776426e-03, -6.06330395e-01, -1.85666889e-01,\n",
              "         -2.60158598e-01, -1.12906791e-01, -2.87608325e-01,\n",
              "          2.53181398e-01,  4.54097152e-01, -2.03966096e-01,\n",
              "          1.04367636e-01, -2.68268824e-01, -5.90638340e-01,\n",
              "          3.15475613e-01,  2.23020062e-01, -3.15322965e-01,\n",
              "         -6.94518328e-01, -1.14508914e-02,  4.26660240e-01,\n",
              "         -4.52563733e-01, -5.89011192e-01,  4.28935140e-01,\n",
              "         -2.63809979e-01,  5.38463891e-01, -9.90856960e-02,\n",
              "          2.64385194e-01, -9.20031071e-02, -1.04660958e-01,\n",
              "         -4.42412823e-01,  5.74401133e-02, -1.60227194e-02,\n",
              "         -9.09465179e-02,  4.41729605e-01,  1.50499061e-01,\n",
              "         -2.01887503e-01, -5.66504180e-01,  5.46686888e-01,\n",
              "          1.56976357e-01,  3.45170468e-01, -7.60709792e-02,\n",
              "         -8.98026973e-02, -5.97377539e-01,  6.58457428e-02,\n",
              "         -6.20187461e-01, -2.14055702e-01,  3.26640278e-01,\n",
              "         -1.31116480e-01, -5.91239035e-01,  6.22224629e-01,\n",
              "          1.79909512e-01,  5.25100052e-01,  2.81704873e-01]], dtype=float32)>]"
            ]
          },
          "execution_count": 30,
          "metadata": {},
          "output_type": "execute_result"
        }
      ],
      "source": [
        "bert_encoder(bert_preprocess([\"text_input\"]))"
      ]
    },
    {
      "cell_type": "code",
      "execution_count": null,
      "metadata": {
        "colab": {
          "base_uri": "https://localhost:8080/"
        },
        "id": "Wi3gdsqvXXaw",
        "outputId": "ba0536f7-113e-4d31-f9ae-6cb9d98a0290"
      },
      "outputs": [
        {
          "name": "stdout",
          "output_type": "stream",
          "text": [
            "Model: \"model\"\n",
            "__________________________________________________________________________________________________\n",
            " Layer (type)                   Output Shape         Param #     Connected to                     \n",
            "==================================================================================================\n",
            " text (InputLayer)              [(None,)]            0           []                               \n",
            "                                                                                                  \n",
            " keras_layer (KerasLayer)       {'input_mask': (Non  0           ['text[0][0]']                   \n",
            "                                e, 128),                                                          \n",
            "                                 'input_word_ids':                                                \n",
            "                                (None, 128),                                                      \n",
            "                                 'input_type_ids':                                                \n",
            "                                (None, 128)}                                                      \n",
            "                                                                                                  \n",
            " keras_layer_1 (KerasLayer)     {'sequence_output':  109482241   ['keras_layer[0][0]',            \n",
            "                                 (None, 128, 768),                'keras_layer[0][1]',            \n",
            "                                 'encoder_outputs':               'keras_layer[0][2]']            \n",
            "                                 [(None, 128, 768),                                               \n",
            "                                 (None, 128, 768),                                                \n",
            "                                 (None, 128, 768),                                                \n",
            "                                 (None, 128, 768),                                                \n",
            "                                 (None, 128, 768),                                                \n",
            "                                 (None, 128, 768),                                                \n",
            "                                 (None, 128, 768),                                                \n",
            "                                 (None, 128, 768),                                                \n",
            "                                 (None, 128, 768),                                                \n",
            "                                 (None, 128, 768),                                                \n",
            "                                 (None, 128, 768),                                                \n",
            "                                 (None, 128, 768)],                                               \n",
            "                                 'pooled_output': (                                               \n",
            "                                None, 768),                                                       \n",
            "                                 'default': (None,                                                \n",
            "                                768)}                                                             \n",
            "                                                                                                  \n",
            " dropout (Dropout)              (None, 768)          0           ['keras_layer_1[0][13]']         \n",
            "                                                                                                  \n",
            " output (Dense)                 (None, 1)            769         ['dropout[0][0]']                \n",
            "                                                                                                  \n",
            "==================================================================================================\n",
            "Total params: 109,483,010\n",
            "Trainable params: 769\n",
            "Non-trainable params: 109,482,241\n",
            "__________________________________________________________________________________________________\n"
          ]
        }
      ],
      "source": [
        "model.summary()"
      ]
    },
    {
      "cell_type": "markdown",
      "metadata": {
        "id": "4d00Ugs1XTvB"
      },
      "source": [
        "MODEL"
      ]
    },
    {
      "cell_type": "code",
      "execution_count": null,
      "metadata": {
        "colab": {
          "base_uri": "https://localhost:8080/"
        },
        "id": "yIRZOj-MTc5F",
        "outputId": "df81bb57-6a36-4244-d03e-77c456a2525e"
      },
      "outputs": [
        {
          "data": {
            "text/plain": [
              "{'attention_probs_dropout_prob': 0.1,\n",
              " 'hidden_act': 'gelu',\n",
              " 'hidden_dropout_prob': 0.1,\n",
              " 'hidden_size': 768,\n",
              " 'initializer_range': 0.02,\n",
              " 'intermediate_size': 3072,\n",
              " 'max_position_embeddings': 512,\n",
              " 'num_attention_heads': 12,\n",
              " 'num_hidden_layers': 12,\n",
              " 'type_vocab_size': 2,\n",
              " 'vocab_size': 30522}"
            ]
          },
          "execution_count": 24,
          "metadata": {},
          "output_type": "execute_result"
        }
      ],
      "source": [
        "import json\n",
        "\n",
        "bert_config_file = os.path.join(gs_folder_bert, \"bert_config.json\")\n",
        "config_dict = json.loads(tf.io.gfile.GFile(bert_config_file).read())\n",
        "\n",
        "bert_config = bert.configs.BertConfig.from_dict(config_dict)\n",
        "\n",
        "config_dict"
      ]
    },
    {
      "cell_type": "code",
      "execution_count": null,
      "metadata": {
        "id": "WZnRm_Q7TdJL"
      },
      "outputs": [],
      "source": [
        "bert_classifier, bert_encoder = bert.bert_models.classifier_model(\n",
        "    bert_config, num_labels=1)"
      ]
    },
    {
      "cell_type": "code",
      "execution_count": null,
      "metadata": {
        "colab": {
          "base_uri": "https://localhost:8080/"
        },
        "id": "IKjb6XBHzLQ8",
        "outputId": "209ed526-bdf7-43b1-dcb0-f5759b2f79d3"
      },
      "outputs": [
        {
          "name": "stdout",
          "output_type": "stream",
          "text": [
            "Model: \"bert_classifier\"\n",
            "__________________________________________________________________________________________________\n",
            " Layer (type)                   Output Shape         Param #     Connected to                     \n",
            "==================================================================================================\n",
            " input_word_ids (InputLayer)    [(None, None)]       0           []                               \n",
            "                                                                                                  \n",
            " input_mask (InputLayer)        [(None, None)]       0           []                               \n",
            "                                                                                                  \n",
            " input_type_ids (InputLayer)    [(None, None)]       0           []                               \n",
            "                                                                                                  \n",
            " bert_encoder_1 (BertEncoder)   [(None, None, 768),  109482240   ['input_word_ids[0][0]',         \n",
            "                                 (None, 768)]                     'input_mask[0][0]',             \n",
            "                                                                  'input_type_ids[0][0]']         \n",
            "                                                                                                  \n",
            " dropout_1 (Dropout)            (None, 768)          0           ['bert_encoder_1[0][1]']         \n",
            "                                                                                                  \n",
            " sentence_prediction (Classific  (None, 1)           769         ['dropout_1[0][0]']              \n",
            " ation)                                                                                           \n",
            "                                                                                                  \n",
            "==================================================================================================\n",
            "Total params: 109,483,009\n",
            "Trainable params: 109,483,009\n",
            "Non-trainable params: 0\n",
            "__________________________________________________________________________________________________\n"
          ]
        }
      ],
      "source": [
        "bert_classifier.summary()"
      ]
    },
    {
      "cell_type": "code",
      "execution_count": null,
      "metadata": {
        "colab": {
          "base_uri": "https://localhost:8080/"
        },
        "id": "hwSrQpGViAEu",
        "outputId": "a37bb771-d5b4-4ae8-ad21-fd30441ab333"
      },
      "outputs": [
        {
          "data": {
            "text/plain": [
              "array([[0.32531622],\n",
              "       [0.32915953],\n",
              "       [0.33468887],\n",
              "       [0.33347988],\n",
              "       [0.33715686],\n",
              "       [0.3351959 ],\n",
              "       [0.34196556],\n",
              "       [0.3285494 ],\n",
              "       [0.32908943],\n",
              "       [0.3352259 ]], dtype=float32)"
            ]
          },
          "execution_count": 34,
          "metadata": {},
          "output_type": "execute_result"
        }
      ],
      "source": [
        "glue_batch = {key: val[:10] for key, val in data_train.items()}\n",
        "\n",
        "results = bert_classifier(\n",
        "    glue_batch, training=False\n",
        ").numpy()\n",
        "results"
      ]
    },
    {
      "cell_type": "code",
      "execution_count": null,
      "metadata": {
        "colab": {
          "base_uri": "https://localhost:8080/"
        },
        "id": "PUR6xUs6icji",
        "outputId": "bbeb4e78-1631-46c3-cbf4-efe9ed7da4e8"
      },
      "outputs": [
        {
          "name": "stdout",
          "output_type": "stream",
          "text": [
            "[-0.10645445]\n"
          ]
        }
      ],
      "source": [
        "print(results[0])\n",
        "#print(tf.nn.softmax(results[0]))\n",
        "#print(tf.argmax(tf.nn.softmax(results[0])))"
      ]
    },
    {
      "cell_type": "code",
      "execution_count": null,
      "metadata": {
        "colab": {
          "base_uri": "https://localhost:8080/"
        },
        "id": "WNd4sMmQoisY",
        "outputId": "4d295854-ddb0-452f-c1bd-cefbccad62a1"
      },
      "outputs": [
        {
          "data": {
            "text/plain": [
              "<tensorflow.python.training.tracking.util.CheckpointLoadStatus at 0x7ff7ed99df10>"
            ]
          },
          "execution_count": 35,
          "metadata": {},
          "output_type": "execute_result"
        }
      ],
      "source": [
        "checkpoint = tf.train.Checkpoint(encoder=bert_encoder)\n",
        "checkpoint.read(\n",
        "    os.path.join(gs_folder_bert, 'bert_model.ckpt')).assert_consumed()"
      ]
    },
    {
      "cell_type": "code",
      "execution_count": null,
      "metadata": {
        "id": "JTgjxn9iouOb"
      },
      "outputs": [],
      "source": [
        "epochs = 2\n",
        "batch_size = 32\n",
        "eval_batch_size = 32\n",
        "\n",
        "train_data_size = len(data_train_labels)\n",
        "steps_per_epoch = int(train_data_size / batch_size)\n",
        "num_train_steps = steps_per_epoch * epochs\n",
        "warmup_steps = int(epochs * train_data_size * 0.1 / batch_size)\n",
        "\n",
        "# creates an optimizer with learning rate schedule\n",
        "optimizer = nlp.optimization.create_optimizer(\n",
        "    2e-5, num_train_steps=num_train_steps, num_warmup_steps=warmup_steps)"
      ]
    },
    {
      "cell_type": "code",
      "execution_count": null,
      "metadata": {
        "colab": {
          "background_save": true,
          "base_uri": "https://localhost:8080/"
        },
        "id": "Uoe0RrTpouXc",
        "outputId": "656dcb9a-30ad-48ac-f5df-4f2528c0d0f0"
      },
      "outputs": [
        {
          "name": "stdout",
          "output_type": "stream",
          "text": [
            "Epoch 1/2\n",
            "570/570 [==============================] - 1000s 2s/step - loss: 0.2335 - mean_squared_error: 0.0837\n",
            "Epoch 2/2\n",
            "499/570 [=========================>....] - ETA: 2:01 - loss: 0.2252 - mean_squared_error: 0.0766"
          ]
        },
        {
          "ename": "KeyboardInterrupt",
          "evalue": "ignored",
          "output_type": "error",
          "traceback": [
            "\u001b[0;31m---------------------------------------------------------------------------\u001b[0m",
            "\u001b[0;31mKeyboardInterrupt\u001b[0m                         Traceback (most recent call last)",
            "\u001b[0;32m<ipython-input-62-a32ac8a608ab>\u001b[0m in \u001b[0;36m<module>\u001b[0;34m()\u001b[0m\n\u001b[1;32m     16\u001b[0m       \u001b[0mdata_train\u001b[0m\u001b[0;34m,\u001b[0m \u001b[0mdata_train_labels\u001b[0m\u001b[0;34m,\u001b[0m\u001b[0;34m\u001b[0m\u001b[0;34m\u001b[0m\u001b[0m\n\u001b[1;32m     17\u001b[0m       \u001b[0mbatch_size\u001b[0m\u001b[0;34m=\u001b[0m\u001b[0;36m64\u001b[0m\u001b[0;34m,\u001b[0m\u001b[0;34m\u001b[0m\u001b[0;34m\u001b[0m\u001b[0m\n\u001b[0;32m---> 18\u001b[0;31m       epochs=epochs)\n\u001b[0m",
            "\u001b[0;32m/usr/local/lib/python3.7/dist-packages/keras/utils/traceback_utils.py\u001b[0m in \u001b[0;36merror_handler\u001b[0;34m(*args, **kwargs)\u001b[0m\n\u001b[1;32m     62\u001b[0m     \u001b[0mfiltered_tb\u001b[0m \u001b[0;34m=\u001b[0m \u001b[0;32mNone\u001b[0m\u001b[0;34m\u001b[0m\u001b[0;34m\u001b[0m\u001b[0m\n\u001b[1;32m     63\u001b[0m     \u001b[0;32mtry\u001b[0m\u001b[0;34m:\u001b[0m\u001b[0;34m\u001b[0m\u001b[0;34m\u001b[0m\u001b[0m\n\u001b[0;32m---> 64\u001b[0;31m       \u001b[0;32mreturn\u001b[0m \u001b[0mfn\u001b[0m\u001b[0;34m(\u001b[0m\u001b[0;34m*\u001b[0m\u001b[0margs\u001b[0m\u001b[0;34m,\u001b[0m \u001b[0;34m**\u001b[0m\u001b[0mkwargs\u001b[0m\u001b[0;34m)\u001b[0m\u001b[0;34m\u001b[0m\u001b[0;34m\u001b[0m\u001b[0m\n\u001b[0m\u001b[1;32m     65\u001b[0m     \u001b[0;32mexcept\u001b[0m \u001b[0mException\u001b[0m \u001b[0;32mas\u001b[0m \u001b[0me\u001b[0m\u001b[0;34m:\u001b[0m  \u001b[0;31m# pylint: disable=broad-except\u001b[0m\u001b[0;34m\u001b[0m\u001b[0;34m\u001b[0m\u001b[0m\n\u001b[1;32m     66\u001b[0m       \u001b[0mfiltered_tb\u001b[0m \u001b[0;34m=\u001b[0m \u001b[0m_process_traceback_frames\u001b[0m\u001b[0;34m(\u001b[0m\u001b[0me\u001b[0m\u001b[0;34m.\u001b[0m\u001b[0m__traceback__\u001b[0m\u001b[0;34m)\u001b[0m\u001b[0;34m\u001b[0m\u001b[0;34m\u001b[0m\u001b[0m\n",
            "\u001b[0;32m/usr/local/lib/python3.7/dist-packages/keras/engine/training.py\u001b[0m in \u001b[0;36mfit\u001b[0;34m(self, x, y, batch_size, epochs, verbose, callbacks, validation_split, validation_data, shuffle, class_weight, sample_weight, initial_epoch, steps_per_epoch, validation_steps, validation_batch_size, validation_freq, max_queue_size, workers, use_multiprocessing)\u001b[0m\n\u001b[1;32m   1387\u001b[0m               \u001b[0mlogs\u001b[0m \u001b[0;34m=\u001b[0m \u001b[0mtmp_logs\u001b[0m  \u001b[0;31m# No error, now safe to assign to logs.\u001b[0m\u001b[0;34m\u001b[0m\u001b[0;34m\u001b[0m\u001b[0m\n\u001b[1;32m   1388\u001b[0m               \u001b[0mend_step\u001b[0m \u001b[0;34m=\u001b[0m \u001b[0mstep\u001b[0m \u001b[0;34m+\u001b[0m \u001b[0mdata_handler\u001b[0m\u001b[0;34m.\u001b[0m\u001b[0mstep_increment\u001b[0m\u001b[0;34m\u001b[0m\u001b[0;34m\u001b[0m\u001b[0m\n\u001b[0;32m-> 1389\u001b[0;31m               \u001b[0mcallbacks\u001b[0m\u001b[0;34m.\u001b[0m\u001b[0mon_train_batch_end\u001b[0m\u001b[0;34m(\u001b[0m\u001b[0mend_step\u001b[0m\u001b[0;34m,\u001b[0m \u001b[0mlogs\u001b[0m\u001b[0;34m)\u001b[0m\u001b[0;34m\u001b[0m\u001b[0;34m\u001b[0m\u001b[0m\n\u001b[0m\u001b[1;32m   1390\u001b[0m               \u001b[0;32mif\u001b[0m \u001b[0mself\u001b[0m\u001b[0;34m.\u001b[0m\u001b[0mstop_training\u001b[0m\u001b[0;34m:\u001b[0m\u001b[0;34m\u001b[0m\u001b[0;34m\u001b[0m\u001b[0m\n\u001b[1;32m   1391\u001b[0m                 \u001b[0;32mbreak\u001b[0m\u001b[0;34m\u001b[0m\u001b[0;34m\u001b[0m\u001b[0m\n",
            "\u001b[0;32m/usr/local/lib/python3.7/dist-packages/keras/callbacks.py\u001b[0m in \u001b[0;36mon_train_batch_end\u001b[0;34m(self, batch, logs)\u001b[0m\n\u001b[1;32m    436\u001b[0m     \"\"\"\n\u001b[1;32m    437\u001b[0m     \u001b[0;32mif\u001b[0m \u001b[0mself\u001b[0m\u001b[0;34m.\u001b[0m\u001b[0m_should_call_train_batch_hooks\u001b[0m\u001b[0;34m:\u001b[0m\u001b[0;34m\u001b[0m\u001b[0;34m\u001b[0m\u001b[0m\n\u001b[0;32m--> 438\u001b[0;31m       \u001b[0mself\u001b[0m\u001b[0;34m.\u001b[0m\u001b[0m_call_batch_hook\u001b[0m\u001b[0;34m(\u001b[0m\u001b[0mModeKeys\u001b[0m\u001b[0;34m.\u001b[0m\u001b[0mTRAIN\u001b[0m\u001b[0;34m,\u001b[0m \u001b[0;34m'end'\u001b[0m\u001b[0;34m,\u001b[0m \u001b[0mbatch\u001b[0m\u001b[0;34m,\u001b[0m \u001b[0mlogs\u001b[0m\u001b[0;34m=\u001b[0m\u001b[0mlogs\u001b[0m\u001b[0;34m)\u001b[0m\u001b[0;34m\u001b[0m\u001b[0;34m\u001b[0m\u001b[0m\n\u001b[0m\u001b[1;32m    439\u001b[0m \u001b[0;34m\u001b[0m\u001b[0m\n\u001b[1;32m    440\u001b[0m   \u001b[0;32mdef\u001b[0m \u001b[0mon_test_batch_begin\u001b[0m\u001b[0;34m(\u001b[0m\u001b[0mself\u001b[0m\u001b[0;34m,\u001b[0m \u001b[0mbatch\u001b[0m\u001b[0;34m,\u001b[0m \u001b[0mlogs\u001b[0m\u001b[0;34m=\u001b[0m\u001b[0;32mNone\u001b[0m\u001b[0;34m)\u001b[0m\u001b[0;34m:\u001b[0m\u001b[0;34m\u001b[0m\u001b[0;34m\u001b[0m\u001b[0m\n",
            "\u001b[0;32m/usr/local/lib/python3.7/dist-packages/keras/callbacks.py\u001b[0m in \u001b[0;36m_call_batch_hook\u001b[0;34m(self, mode, hook, batch, logs)\u001b[0m\n\u001b[1;32m    295\u001b[0m       \u001b[0mself\u001b[0m\u001b[0;34m.\u001b[0m\u001b[0m_call_batch_begin_hook\u001b[0m\u001b[0;34m(\u001b[0m\u001b[0mmode\u001b[0m\u001b[0;34m,\u001b[0m \u001b[0mbatch\u001b[0m\u001b[0;34m,\u001b[0m \u001b[0mlogs\u001b[0m\u001b[0;34m)\u001b[0m\u001b[0;34m\u001b[0m\u001b[0;34m\u001b[0m\u001b[0m\n\u001b[1;32m    296\u001b[0m     \u001b[0;32melif\u001b[0m \u001b[0mhook\u001b[0m \u001b[0;34m==\u001b[0m \u001b[0;34m'end'\u001b[0m\u001b[0;34m:\u001b[0m\u001b[0;34m\u001b[0m\u001b[0;34m\u001b[0m\u001b[0m\n\u001b[0;32m--> 297\u001b[0;31m       \u001b[0mself\u001b[0m\u001b[0;34m.\u001b[0m\u001b[0m_call_batch_end_hook\u001b[0m\u001b[0;34m(\u001b[0m\u001b[0mmode\u001b[0m\u001b[0;34m,\u001b[0m \u001b[0mbatch\u001b[0m\u001b[0;34m,\u001b[0m \u001b[0mlogs\u001b[0m\u001b[0;34m)\u001b[0m\u001b[0;34m\u001b[0m\u001b[0;34m\u001b[0m\u001b[0m\n\u001b[0m\u001b[1;32m    298\u001b[0m     \u001b[0;32melse\u001b[0m\u001b[0;34m:\u001b[0m\u001b[0;34m\u001b[0m\u001b[0;34m\u001b[0m\u001b[0m\n\u001b[1;32m    299\u001b[0m       raise ValueError(\n",
            "\u001b[0;32m/usr/local/lib/python3.7/dist-packages/keras/callbacks.py\u001b[0m in \u001b[0;36m_call_batch_end_hook\u001b[0;34m(self, mode, batch, logs)\u001b[0m\n\u001b[1;32m    316\u001b[0m       \u001b[0mself\u001b[0m\u001b[0;34m.\u001b[0m\u001b[0m_batch_times\u001b[0m\u001b[0;34m.\u001b[0m\u001b[0mappend\u001b[0m\u001b[0;34m(\u001b[0m\u001b[0mbatch_time\u001b[0m\u001b[0;34m)\u001b[0m\u001b[0;34m\u001b[0m\u001b[0;34m\u001b[0m\u001b[0m\n\u001b[1;32m    317\u001b[0m \u001b[0;34m\u001b[0m\u001b[0m\n\u001b[0;32m--> 318\u001b[0;31m     \u001b[0mself\u001b[0m\u001b[0;34m.\u001b[0m\u001b[0m_call_batch_hook_helper\u001b[0m\u001b[0;34m(\u001b[0m\u001b[0mhook_name\u001b[0m\u001b[0;34m,\u001b[0m \u001b[0mbatch\u001b[0m\u001b[0;34m,\u001b[0m \u001b[0mlogs\u001b[0m\u001b[0;34m)\u001b[0m\u001b[0;34m\u001b[0m\u001b[0;34m\u001b[0m\u001b[0m\n\u001b[0m\u001b[1;32m    319\u001b[0m \u001b[0;34m\u001b[0m\u001b[0m\n\u001b[1;32m    320\u001b[0m     \u001b[0;32mif\u001b[0m \u001b[0mlen\u001b[0m\u001b[0;34m(\u001b[0m\u001b[0mself\u001b[0m\u001b[0;34m.\u001b[0m\u001b[0m_batch_times\u001b[0m\u001b[0;34m)\u001b[0m \u001b[0;34m>=\u001b[0m \u001b[0mself\u001b[0m\u001b[0;34m.\u001b[0m\u001b[0m_num_batches_for_timing_check\u001b[0m\u001b[0;34m:\u001b[0m\u001b[0;34m\u001b[0m\u001b[0;34m\u001b[0m\u001b[0m\n",
            "\u001b[0;32m/usr/local/lib/python3.7/dist-packages/keras/callbacks.py\u001b[0m in \u001b[0;36m_call_batch_hook_helper\u001b[0;34m(self, hook_name, batch, logs)\u001b[0m\n\u001b[1;32m    354\u001b[0m     \u001b[0;32mfor\u001b[0m \u001b[0mcallback\u001b[0m \u001b[0;32min\u001b[0m \u001b[0mself\u001b[0m\u001b[0;34m.\u001b[0m\u001b[0mcallbacks\u001b[0m\u001b[0;34m:\u001b[0m\u001b[0;34m\u001b[0m\u001b[0;34m\u001b[0m\u001b[0m\n\u001b[1;32m    355\u001b[0m       \u001b[0mhook\u001b[0m \u001b[0;34m=\u001b[0m \u001b[0mgetattr\u001b[0m\u001b[0;34m(\u001b[0m\u001b[0mcallback\u001b[0m\u001b[0;34m,\u001b[0m \u001b[0mhook_name\u001b[0m\u001b[0;34m)\u001b[0m\u001b[0;34m\u001b[0m\u001b[0;34m\u001b[0m\u001b[0m\n\u001b[0;32m--> 356\u001b[0;31m       \u001b[0mhook\u001b[0m\u001b[0;34m(\u001b[0m\u001b[0mbatch\u001b[0m\u001b[0;34m,\u001b[0m \u001b[0mlogs\u001b[0m\u001b[0;34m)\u001b[0m\u001b[0;34m\u001b[0m\u001b[0;34m\u001b[0m\u001b[0m\n\u001b[0m\u001b[1;32m    357\u001b[0m \u001b[0;34m\u001b[0m\u001b[0m\n\u001b[1;32m    358\u001b[0m     \u001b[0;32mif\u001b[0m \u001b[0mself\u001b[0m\u001b[0;34m.\u001b[0m\u001b[0m_check_timing\u001b[0m\u001b[0;34m:\u001b[0m\u001b[0;34m\u001b[0m\u001b[0;34m\u001b[0m\u001b[0m\n",
            "\u001b[0;32m/usr/local/lib/python3.7/dist-packages/keras/callbacks.py\u001b[0m in \u001b[0;36mon_train_batch_end\u001b[0;34m(self, batch, logs)\u001b[0m\n\u001b[1;32m   1032\u001b[0m \u001b[0;34m\u001b[0m\u001b[0m\n\u001b[1;32m   1033\u001b[0m   \u001b[0;32mdef\u001b[0m \u001b[0mon_train_batch_end\u001b[0m\u001b[0;34m(\u001b[0m\u001b[0mself\u001b[0m\u001b[0;34m,\u001b[0m \u001b[0mbatch\u001b[0m\u001b[0;34m,\u001b[0m \u001b[0mlogs\u001b[0m\u001b[0;34m=\u001b[0m\u001b[0;32mNone\u001b[0m\u001b[0;34m)\u001b[0m\u001b[0;34m:\u001b[0m\u001b[0;34m\u001b[0m\u001b[0;34m\u001b[0m\u001b[0m\n\u001b[0;32m-> 1034\u001b[0;31m     \u001b[0mself\u001b[0m\u001b[0;34m.\u001b[0m\u001b[0m_batch_update_progbar\u001b[0m\u001b[0;34m(\u001b[0m\u001b[0mbatch\u001b[0m\u001b[0;34m,\u001b[0m \u001b[0mlogs\u001b[0m\u001b[0;34m)\u001b[0m\u001b[0;34m\u001b[0m\u001b[0;34m\u001b[0m\u001b[0m\n\u001b[0m\u001b[1;32m   1035\u001b[0m \u001b[0;34m\u001b[0m\u001b[0m\n\u001b[1;32m   1036\u001b[0m   \u001b[0;32mdef\u001b[0m \u001b[0mon_test_batch_end\u001b[0m\u001b[0;34m(\u001b[0m\u001b[0mself\u001b[0m\u001b[0;34m,\u001b[0m \u001b[0mbatch\u001b[0m\u001b[0;34m,\u001b[0m \u001b[0mlogs\u001b[0m\u001b[0;34m=\u001b[0m\u001b[0;32mNone\u001b[0m\u001b[0;34m)\u001b[0m\u001b[0;34m:\u001b[0m\u001b[0;34m\u001b[0m\u001b[0;34m\u001b[0m\u001b[0m\n",
            "\u001b[0;32m/usr/local/lib/python3.7/dist-packages/keras/callbacks.py\u001b[0m in \u001b[0;36m_batch_update_progbar\u001b[0;34m(self, batch, logs)\u001b[0m\n\u001b[1;32m   1104\u001b[0m     \u001b[0;32mif\u001b[0m \u001b[0mself\u001b[0m\u001b[0;34m.\u001b[0m\u001b[0mverbose\u001b[0m \u001b[0;34m==\u001b[0m \u001b[0;36m1\u001b[0m\u001b[0;34m:\u001b[0m\u001b[0;34m\u001b[0m\u001b[0;34m\u001b[0m\u001b[0m\n\u001b[1;32m   1105\u001b[0m       \u001b[0;31m# Only block async when verbose = 1.\u001b[0m\u001b[0;34m\u001b[0m\u001b[0;34m\u001b[0m\u001b[0;34m\u001b[0m\u001b[0m\n\u001b[0;32m-> 1106\u001b[0;31m       \u001b[0mlogs\u001b[0m \u001b[0;34m=\u001b[0m \u001b[0mtf_utils\u001b[0m\u001b[0;34m.\u001b[0m\u001b[0msync_to_numpy_or_python_type\u001b[0m\u001b[0;34m(\u001b[0m\u001b[0mlogs\u001b[0m\u001b[0;34m)\u001b[0m\u001b[0;34m\u001b[0m\u001b[0;34m\u001b[0m\u001b[0m\n\u001b[0m\u001b[1;32m   1107\u001b[0m       \u001b[0mself\u001b[0m\u001b[0;34m.\u001b[0m\u001b[0mprogbar\u001b[0m\u001b[0;34m.\u001b[0m\u001b[0mupdate\u001b[0m\u001b[0;34m(\u001b[0m\u001b[0mself\u001b[0m\u001b[0;34m.\u001b[0m\u001b[0mseen\u001b[0m\u001b[0;34m,\u001b[0m \u001b[0mlist\u001b[0m\u001b[0;34m(\u001b[0m\u001b[0mlogs\u001b[0m\u001b[0;34m.\u001b[0m\u001b[0mitems\u001b[0m\u001b[0;34m(\u001b[0m\u001b[0;34m)\u001b[0m\u001b[0;34m)\u001b[0m\u001b[0;34m,\u001b[0m \u001b[0mfinalize\u001b[0m\u001b[0;34m=\u001b[0m\u001b[0;32mFalse\u001b[0m\u001b[0;34m)\u001b[0m\u001b[0;34m\u001b[0m\u001b[0;34m\u001b[0m\u001b[0m\n\u001b[1;32m   1108\u001b[0m \u001b[0;34m\u001b[0m\u001b[0m\n",
            "\u001b[0;32m/usr/local/lib/python3.7/dist-packages/keras/utils/tf_utils.py\u001b[0m in \u001b[0;36msync_to_numpy_or_python_type\u001b[0;34m(tensors)\u001b[0m\n\u001b[1;32m    561\u001b[0m     \u001b[0;32mreturn\u001b[0m \u001b[0mt\u001b[0m\u001b[0;34m.\u001b[0m\u001b[0mitem\u001b[0m\u001b[0;34m(\u001b[0m\u001b[0;34m)\u001b[0m \u001b[0;32mif\u001b[0m \u001b[0mnp\u001b[0m\u001b[0;34m.\u001b[0m\u001b[0mndim\u001b[0m\u001b[0;34m(\u001b[0m\u001b[0mt\u001b[0m\u001b[0;34m)\u001b[0m \u001b[0;34m==\u001b[0m \u001b[0;36m0\u001b[0m \u001b[0;32melse\u001b[0m \u001b[0mt\u001b[0m\u001b[0;34m\u001b[0m\u001b[0;34m\u001b[0m\u001b[0m\n\u001b[1;32m    562\u001b[0m \u001b[0;34m\u001b[0m\u001b[0m\n\u001b[0;32m--> 563\u001b[0;31m   \u001b[0;32mreturn\u001b[0m \u001b[0mtf\u001b[0m\u001b[0;34m.\u001b[0m\u001b[0mnest\u001b[0m\u001b[0;34m.\u001b[0m\u001b[0mmap_structure\u001b[0m\u001b[0;34m(\u001b[0m\u001b[0m_to_single_numpy_or_python_type\u001b[0m\u001b[0;34m,\u001b[0m \u001b[0mtensors\u001b[0m\u001b[0;34m)\u001b[0m\u001b[0;34m\u001b[0m\u001b[0;34m\u001b[0m\u001b[0m\n\u001b[0m\u001b[1;32m    564\u001b[0m \u001b[0;34m\u001b[0m\u001b[0m\n\u001b[1;32m    565\u001b[0m \u001b[0;34m\u001b[0m\u001b[0m\n",
            "\u001b[0;32m/usr/local/lib/python3.7/dist-packages/tensorflow/python/util/nest.py\u001b[0m in \u001b[0;36mmap_structure\u001b[0;34m(func, *structure, **kwargs)\u001b[0m\n\u001b[1;32m    912\u001b[0m \u001b[0;34m\u001b[0m\u001b[0m\n\u001b[1;32m    913\u001b[0m   return pack_sequence_as(\n\u001b[0;32m--> 914\u001b[0;31m       \u001b[0mstructure\u001b[0m\u001b[0;34m[\u001b[0m\u001b[0;36m0\u001b[0m\u001b[0;34m]\u001b[0m\u001b[0;34m,\u001b[0m \u001b[0;34m[\u001b[0m\u001b[0mfunc\u001b[0m\u001b[0;34m(\u001b[0m\u001b[0;34m*\u001b[0m\u001b[0mx\u001b[0m\u001b[0;34m)\u001b[0m \u001b[0;32mfor\u001b[0m \u001b[0mx\u001b[0m \u001b[0;32min\u001b[0m \u001b[0mentries\u001b[0m\u001b[0;34m]\u001b[0m\u001b[0;34m,\u001b[0m\u001b[0;34m\u001b[0m\u001b[0;34m\u001b[0m\u001b[0m\n\u001b[0m\u001b[1;32m    915\u001b[0m       expand_composites=expand_composites)\n\u001b[1;32m    916\u001b[0m \u001b[0;34m\u001b[0m\u001b[0m\n",
            "\u001b[0;32m/usr/local/lib/python3.7/dist-packages/tensorflow/python/util/nest.py\u001b[0m in \u001b[0;36m<listcomp>\u001b[0;34m(.0)\u001b[0m\n\u001b[1;32m    912\u001b[0m \u001b[0;34m\u001b[0m\u001b[0m\n\u001b[1;32m    913\u001b[0m   return pack_sequence_as(\n\u001b[0;32m--> 914\u001b[0;31m       \u001b[0mstructure\u001b[0m\u001b[0;34m[\u001b[0m\u001b[0;36m0\u001b[0m\u001b[0;34m]\u001b[0m\u001b[0;34m,\u001b[0m \u001b[0;34m[\u001b[0m\u001b[0mfunc\u001b[0m\u001b[0;34m(\u001b[0m\u001b[0;34m*\u001b[0m\u001b[0mx\u001b[0m\u001b[0;34m)\u001b[0m \u001b[0;32mfor\u001b[0m \u001b[0mx\u001b[0m \u001b[0;32min\u001b[0m \u001b[0mentries\u001b[0m\u001b[0;34m]\u001b[0m\u001b[0;34m,\u001b[0m\u001b[0;34m\u001b[0m\u001b[0;34m\u001b[0m\u001b[0m\n\u001b[0m\u001b[1;32m    915\u001b[0m       expand_composites=expand_composites)\n\u001b[1;32m    916\u001b[0m \u001b[0;34m\u001b[0m\u001b[0m\n",
            "\u001b[0;32m/usr/local/lib/python3.7/dist-packages/keras/utils/tf_utils.py\u001b[0m in \u001b[0;36m_to_single_numpy_or_python_type\u001b[0;34m(t)\u001b[0m\n\u001b[1;32m    555\u001b[0m     \u001b[0;31m# Don't turn ragged or sparse tensors to NumPy.\u001b[0m\u001b[0;34m\u001b[0m\u001b[0;34m\u001b[0m\u001b[0;34m\u001b[0m\u001b[0m\n\u001b[1;32m    556\u001b[0m     \u001b[0;32mif\u001b[0m \u001b[0misinstance\u001b[0m\u001b[0;34m(\u001b[0m\u001b[0mt\u001b[0m\u001b[0;34m,\u001b[0m \u001b[0mtf\u001b[0m\u001b[0;34m.\u001b[0m\u001b[0mTensor\u001b[0m\u001b[0;34m)\u001b[0m\u001b[0;34m:\u001b[0m\u001b[0;34m\u001b[0m\u001b[0;34m\u001b[0m\u001b[0m\n\u001b[0;32m--> 557\u001b[0;31m       \u001b[0mt\u001b[0m \u001b[0;34m=\u001b[0m \u001b[0mt\u001b[0m\u001b[0;34m.\u001b[0m\u001b[0mnumpy\u001b[0m\u001b[0;34m(\u001b[0m\u001b[0;34m)\u001b[0m\u001b[0;34m\u001b[0m\u001b[0;34m\u001b[0m\u001b[0m\n\u001b[0m\u001b[1;32m    558\u001b[0m     \u001b[0;31m# Strings, ragged and sparse tensors don't have .item(). Return them as-is.\u001b[0m\u001b[0;34m\u001b[0m\u001b[0;34m\u001b[0m\u001b[0;34m\u001b[0m\u001b[0m\n\u001b[1;32m    559\u001b[0m     \u001b[0;32mif\u001b[0m \u001b[0;32mnot\u001b[0m \u001b[0misinstance\u001b[0m\u001b[0;34m(\u001b[0m\u001b[0mt\u001b[0m\u001b[0;34m,\u001b[0m \u001b[0;34m(\u001b[0m\u001b[0mnp\u001b[0m\u001b[0;34m.\u001b[0m\u001b[0mndarray\u001b[0m\u001b[0;34m,\u001b[0m \u001b[0mnp\u001b[0m\u001b[0;34m.\u001b[0m\u001b[0mgeneric\u001b[0m\u001b[0;34m)\u001b[0m\u001b[0;34m)\u001b[0m\u001b[0;34m:\u001b[0m\u001b[0;34m\u001b[0m\u001b[0;34m\u001b[0m\u001b[0m\n",
            "\u001b[0;32m/usr/local/lib/python3.7/dist-packages/tensorflow/python/framework/ops.py\u001b[0m in \u001b[0;36mnumpy\u001b[0;34m(self)\u001b[0m\n\u001b[1;32m   1221\u001b[0m     \"\"\"\n\u001b[1;32m   1222\u001b[0m     \u001b[0;31m# TODO(slebedev): Consider avoiding a copy for non-CPU or remote tensors.\u001b[0m\u001b[0;34m\u001b[0m\u001b[0;34m\u001b[0m\u001b[0;34m\u001b[0m\u001b[0m\n\u001b[0;32m-> 1223\u001b[0;31m     \u001b[0mmaybe_arr\u001b[0m \u001b[0;34m=\u001b[0m \u001b[0mself\u001b[0m\u001b[0;34m.\u001b[0m\u001b[0m_numpy\u001b[0m\u001b[0;34m(\u001b[0m\u001b[0;34m)\u001b[0m  \u001b[0;31m# pylint: disable=protected-access\u001b[0m\u001b[0;34m\u001b[0m\u001b[0;34m\u001b[0m\u001b[0m\n\u001b[0m\u001b[1;32m   1224\u001b[0m     \u001b[0;32mreturn\u001b[0m \u001b[0mmaybe_arr\u001b[0m\u001b[0;34m.\u001b[0m\u001b[0mcopy\u001b[0m\u001b[0;34m(\u001b[0m\u001b[0;34m)\u001b[0m \u001b[0;32mif\u001b[0m \u001b[0misinstance\u001b[0m\u001b[0;34m(\u001b[0m\u001b[0mmaybe_arr\u001b[0m\u001b[0;34m,\u001b[0m \u001b[0mnp\u001b[0m\u001b[0;34m.\u001b[0m\u001b[0mndarray\u001b[0m\u001b[0;34m)\u001b[0m \u001b[0;32melse\u001b[0m \u001b[0mmaybe_arr\u001b[0m\u001b[0;34m\u001b[0m\u001b[0;34m\u001b[0m\u001b[0m\n\u001b[1;32m   1225\u001b[0m \u001b[0;34m\u001b[0m\u001b[0m\n",
            "\u001b[0;32m/usr/local/lib/python3.7/dist-packages/tensorflow/python/framework/ops.py\u001b[0m in \u001b[0;36m_numpy\u001b[0;34m(self)\u001b[0m\n\u001b[1;32m   1187\u001b[0m   \u001b[0;32mdef\u001b[0m \u001b[0m_numpy\u001b[0m\u001b[0;34m(\u001b[0m\u001b[0mself\u001b[0m\u001b[0;34m)\u001b[0m\u001b[0;34m:\u001b[0m\u001b[0;34m\u001b[0m\u001b[0;34m\u001b[0m\u001b[0m\n\u001b[1;32m   1188\u001b[0m     \u001b[0;32mtry\u001b[0m\u001b[0;34m:\u001b[0m\u001b[0;34m\u001b[0m\u001b[0;34m\u001b[0m\u001b[0m\n\u001b[0;32m-> 1189\u001b[0;31m       \u001b[0;32mreturn\u001b[0m \u001b[0mself\u001b[0m\u001b[0;34m.\u001b[0m\u001b[0m_numpy_internal\u001b[0m\u001b[0;34m(\u001b[0m\u001b[0;34m)\u001b[0m\u001b[0;34m\u001b[0m\u001b[0;34m\u001b[0m\u001b[0m\n\u001b[0m\u001b[1;32m   1190\u001b[0m     \u001b[0;32mexcept\u001b[0m \u001b[0mcore\u001b[0m\u001b[0;34m.\u001b[0m\u001b[0m_NotOkStatusException\u001b[0m \u001b[0;32mas\u001b[0m \u001b[0me\u001b[0m\u001b[0;34m:\u001b[0m  \u001b[0;31m# pylint: disable=protected-access\u001b[0m\u001b[0;34m\u001b[0m\u001b[0;34m\u001b[0m\u001b[0m\n\u001b[1;32m   1191\u001b[0m       \u001b[0;32mraise\u001b[0m \u001b[0mcore\u001b[0m\u001b[0;34m.\u001b[0m\u001b[0m_status_to_exception\u001b[0m\u001b[0;34m(\u001b[0m\u001b[0me\u001b[0m\u001b[0;34m)\u001b[0m \u001b[0;32mfrom\u001b[0m \u001b[0;32mNone\u001b[0m  \u001b[0;31m# pylint: disable=protected-access\u001b[0m\u001b[0;34m\u001b[0m\u001b[0;34m\u001b[0m\u001b[0m\n",
            "\u001b[0;31mKeyboardInterrupt\u001b[0m: "
          ]
        }
      ],
      "source": [
        "metrics = [tf.keras.metrics.SparseCategoricalAccuracy('accuracy', dtype=tf.float32)]\n",
        "loss = tf.keras.losses.SparseCategoricalCrossentropy(from_logits=True)\n",
        "\n",
        "rmetrics = tf.keras.metrics.MeanSquaredError(name=\"mean_squared_error\", dtype=tf.float32)\n",
        "\"\"\"\n",
        "bert_classifier.compile(\n",
        "    optimizer=optimizer,\n",
        "    loss=loss,\n",
        "    metrics=metrics)\n",
        "\"\"\"\n",
        "bert_classifier.compile(loss='mean_absolute_error',\n",
        "                optimizer=tf.keras.optimizers.Adam(0.001),\n",
        "                metrics=rmetrics)\n",
        "     \n",
        "bert_classifier.fit(\n",
        "      data_train, data_train_labels,\n",
        "      batch_size=64,\n",
        "      epochs=epochs)"
      ]
    },
    {
      "cell_type": "code",
      "execution_count": null,
      "metadata": {
        "colab": {
          "base_uri": "https://localhost:8080/"
        },
        "id": "saMYZ-l0jMYl",
        "outputId": "dc755839-2f7e-47ce-8d01-40b3c8513c24"
      },
      "outputs": [
        {
          "name": "stdout",
          "output_type": "stream",
          "text": [
            "570/570 [==============================] - 350s 613ms/step - loss: 0.2165 - mean_squared_error: 0.0708\n"
          ]
        }
      ],
      "source": [
        "results = bert_classifier.evaluate(data_Test, data_Test_labels, batch_size=64)"
      ]
    },
    {
      "cell_type": "code",
      "execution_count": null,
      "metadata": {
        "colab": {
          "base_uri": "https://localhost:8080/"
        },
        "id": "YYP3AXm7or59",
        "outputId": "3b8a4a04-56cf-43ed-c1c8-80fab44154d3"
      },
      "outputs": [
        {
          "name": "stdout",
          "output_type": "stream",
          "text": [
            "test loss, test acc: [0.21647381782531738, 0.07080849260091782]\n"
          ]
        }
      ],
      "source": [
        "print(\"test loss, test acc:\", results)"
      ]
    },
    {
      "cell_type": "code",
      "execution_count": null,
      "metadata": {
        "colab": {
          "base_uri": "https://localhost:8080/"
        },
        "id": "Ohoxdrmq28Fb",
        "outputId": "687c4611-3107-4774-c8fe-004cdd34230a"
      },
      "outputs": [
        {
          "data": {
            "text/plain": [
              "array([[0.2982409 ],\n",
              "       [0.2982409 ],\n",
              "       [0.29824087],\n",
              "       [0.2982409 ],\n",
              "       [0.29824084],\n",
              "       [0.2982409 ],\n",
              "       [0.2982409 ],\n",
              "       [0.2982409 ],\n",
              "       [0.2982409 ],\n",
              "       [0.29824093]], dtype=float32)"
            ]
          },
          "execution_count": 51,
          "metadata": {},
          "output_type": "execute_result"
        }
      ],
      "source": [
        "glue_batch = {key: val[:10] for key, val in data_Test.items()}\n",
        "\n",
        "bert_classifier(\n",
        "    glue_batch, training=False\n",
        ").numpy()"
      ]
    },
    {
      "cell_type": "code",
      "execution_count": null,
      "metadata": {
        "id": "p9MXuLLQqZf2"
      },
      "outputs": [],
      "source": [
        ""
      ]
    },
    {
      "cell_type": "code",
      "execution_count": null,
      "metadata": {
        "id": "EVwsLbdtp39N"
      },
      "outputs": [],
      "source": [
        "bert_classifier.save_weights('checkpoints/my_checkpoint')"
      ]
    },
    {
      "cell_type": "code",
      "execution_count": null,
      "metadata": {
        "colab": {
          "base_uri": "https://localhost:8080/"
        },
        "id": "yVTs2lWWm6R5",
        "outputId": "05ce57bc-afcf-4f18-c27d-2fd5ad248cbb"
      },
      "outputs": [
        {
          "data": {
            "text/plain": [
              "<tensorflow.python.training.tracking.util.CheckpointLoadStatus at 0x7ff7ebb5dbd0>"
            ]
          },
          "execution_count": 58,
          "metadata": {},
          "output_type": "execute_result"
        }
      ],
      "source": [
        "new_bert_classifier, new_bert_encoder = bert.bert_models.classifier_model(\n",
        "    bert_config, num_labels=1)\n",
        "\n",
        "# Restore the weights\n",
        "new_bert_classifier.load_weights('checkpoints/my_checkpoint')"
      ]
    },
    {
      "cell_type": "code",
      "execution_count": null,
      "metadata": {
        "colab": {
          "base_uri": "https://localhost:8080/",
          "height": 35
        },
        "id": "6E8nPJLJrkZu",
        "outputId": "d0b1574a-030b-476e-b391-1cb1ab3a205c"
      },
      "outputs": [
        {
          "data": {
            "application/vnd.google.colaboratory.intrinsic+json": {
              "type": "string"
            },
            "text/plain": [
              "'/content/checkpoints_zip.zip'"
            ]
          },
          "execution_count": 59,
          "metadata": {},
          "output_type": "execute_result"
        }
      ],
      "source": [
        "import shutil\n",
        "shutil.make_archive(\"checkpoints_zip\", 'zip', \"checkpoints\")"
      ]
    },
    {
      "cell_type": "code",
      "execution_count": null,
      "metadata": {
        "id": "f5s_GOLrvg7t"
      },
      "outputs": [],
      "source": [
        "# Classifier \n",
        "result = bert_classifier(glue_batch, training=False)\n",
        "\n",
        "result = tf.argmax(result).numpy()\n"
      ]
    },
    {
      "cell_type": "code",
      "execution_count": null,
      "metadata": {
        "colab": {
          "base_uri": "https://localhost:8080/"
        },
        "id": "3Z6L298_yPmG",
        "outputId": "852f2937-c822-4332-bbba-a98e6351254a"
      },
      "outputs": [
        {
          "data": {
            "text/plain": [
              "array([9, 1, 9, 9, 3])"
            ]
          },
          "execution_count": 89,
          "metadata": {},
          "output_type": "execute_result"
        }
      ],
      "source": [
        "result"
      ]
    }
  ],
  "metadata": {
    "accelerator": "GPU",
    "colab": {
      "collapsed_sections": [],
      "name": "Copy of Bert Exp CPC Codes (via classification).ipynb",
      "provenance": [],
      "include_colab_link": true
    },
    "kernelspec": {
      "display_name": "Python 3",
      "name": "python3"
    },
    "language_info": {
      "name": "python"
    }
  },
  "nbformat": 4,
  "nbformat_minor": 0
}